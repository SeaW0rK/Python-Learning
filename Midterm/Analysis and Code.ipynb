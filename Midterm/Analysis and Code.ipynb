{
 "cells": [
  {
   "cell_type": "markdown",
   "source": "# Midterm Sections 3, 4, and 5: Plan, Code & Analyze\n* The following three sections of the exam each build on each other and center a scenario which is based on real events. This will simulate a real cyber investigation and the planning, coding, and analysis you as a cyber investigator need to do to conduct a thorough analysis. \n* Throughout this part of the exam you will need to read open-source articles, write code, and leverage VirusTotal to complete the problem. While open source does include the availability of Google to conduct your analysis you may NOT Google code pointers to help with your Python. As is true throughout the exam you are welcome to reference your notes, textbook, course materials, and the Python standard library. \n* Parts of the scenario are rooted in real world events and some of the data was pulled from real interactions. However, we have also fabricated some data for the purposes of this exercise. Please know that the exercise taken in its entirity is fictitious and no entities involved or referenced have committed any acts included in this exercise. **Do NOT attempt any form of \"active\" research (e.g. reaching out to people, creating your own profiles, etc.) for this problem.** \n* As you work through the problem, you may find evidence of malicious activity tied to entities that are political in nature. This is intended and mimics what you will see in real intelligence production. Be careful to consider and check your own personal perceptions and focus on the evidence and facts to guide a conclusion. __This exercise is fake and is not intended as commentary on any real-life entities or political opinions.__\n* A tip: establish your intelligence goals and set a timeline for your research, coding, drafting, and editing. **This is a complex issue area and time management is a huge challenge for this problem.**\n\n## Total Time Alloted\n75 minutes to complete sections 3-5. Go at your own pace.\n",
   "metadata": {
    "tags": [],
    "cell_id": "00000-60e48474-2c95-46f5-8080-3a9defcf00e5",
    "deepnote_cell_type": "markdown"
   }
  },
  {
   "cell_type": "markdown",
   "source": "# Section 3: OSINT & Planning\n## Scenario\nThere is a contentious political fight going on in Loudoun County Virgina. You don't have kids and live in DC so haven't been following the situation. You are a cybersecurity investigator and your friends know that you love digging into investigations and finding opportunities to apply your analytical and coding skills outside of work. Your best friend lives in Ashburn and has two kids in Loudoun County Public Schools. They give you a call one night and ask if you will help them get to the bottom of something sketchy they have been told is going on with the Loudoun County School Board vote. They are going to have more information to share with you tomorrow but you are super intrigued so you start to research the situation and start to scope out some theories regarding what the sketchy behavior could be. \n\n## Exam Requirement\nRead a bit about the Loudoun County School Board controversy and then **write a series of intelligence questions** which you as the investigator in this scenario might be interested in pursuing. Feel free to get creative and hypothesize about what possible types of malicious activity could be afoot and what ttps could be used to achieve those objectives. Be sure to include at least two high level questions and then break those down into more detailed intel questions. \n\n## Suggested Timing\n15 minutes total\n\n## Background\nWe have provided a few sample articles on this topic. You may read as many or as few as you need and you are encouraged to do your own OSINT research into this topic. \n* Loudoun Times: [\"Updated: Beth Barts resigns from Loudoun County School Board\"](https://www.facebook.com/LoudounTimes/posts/10159408891468788)\n* DCist: [\"Amid Recall Fight, One Loudoun County School Board Member Resigns\"](https://dcist.com/story/21/10/16/beth-barts-loudoun-county-resignation-fight-for-schools-recall/)\n* Washington Post: [\"Culture wars rage in Loudoun County, with dueling parent groups and school board recalls\"](https://www.washingtonpost.com/local/education/loudoun-school-board-recall/2021/10/05/c71d2818-25fe-11ec-9de8-156fed3e81bf_story.html)\n* Fox News: [\"Virginia parents group launches PAC to unseat school board members over reopening, race controversies\"](https://www.foxnews.com/politics/virginia-parents-pac-school-board-members-reopening-critical-race-theory)\n\n\n",
   "metadata": {
    "tags": [],
    "cell_id": "00001-a64dc37d-d28e-4865-afc3-13e8ab1d2308",
    "deepnote_cell_type": "markdown"
   }
  },
  {
   "cell_type": "markdown",
   "source": "# Section 4: Code\n\n## Fake news?\n\nYour friend follows-up the next day to tell you that an anonymous source contacted them claiming that they had the inside scoop that fake accounts were being used on a local neighborhood app, NextDoor, to influence voters' opinions on the Loudoun County School Board. Your friend happens to work at NextDoor and he's worried that his company is being used by malicious actors and no one at the company has the skills to investigate this. Fortunately, he is able to get permission from the company to send you all of the accounts and comments on this topic from the app. Your friend sends you a sample of the dataset and enlists your help. Your friend assures you that you can safely assume the sample is representative of the full data set.\n\nYour goal is to determine whether or not there are fake accounts in the NextDoor dataset. Examine the data (see the uploaded file \"comments\") and determine if you can find a combination of at least three conditions that you think are suspicious. \n\n## Exam Requirement\nOnce you have identified at least three theories regarding what might identify fake accounts, write code that can test the accounts for those conditions. Through this process you are expected to write code which will identify all possible fake accounts. \n\n## Starter Code\nIn the following cell we have provided you the code which will pre-load the exact data from the CSV in a Python dictionary. \n\n## Suggested Timing\n20 minutes\n",
   "metadata": {
    "tags": [],
    "cell_id": "00002-4c376625-a77c-4410-ac4f-57d623cf1c12",
    "deepnote_cell_type": "markdown"
   }
  },
  {
   "cell_type": "code",
   "metadata": {
    "tags": [],
    "deepnote_to_be_reexecuted": false,
    "source_hash": "10905582",
    "execution_start": 1635118079543,
    "execution_millis": 148,
    "cell_id": "00003-8d135315-5e93-4e0f-ba69-bd38d043c713",
    "deepnote_cell_type": "code"
   },
   "source": "import pandas as pd              # import the pandas module; refer to it as \"pd\" as a short-hand\n\ndf = pd.read_csv(\"comments.csv\") # read the CSV file \"comments.csv\" into a pandas dataframe object\n                                 # this just makes it easier to convert into a formatted dictionary\ncomments = df.to_dict('records') # convert the pandas object into a dictionary of records\ncomments[0]                      # comments is now a dictionary with all of your records. Display JUST THE FIRST ENTRY",
   "outputs": [
    {
     "output_type": "execute_result",
     "execution_count": 10,
     "data": {
      "text/plain": "{'User ID': 2253609,\n 'First Name': 'Hailey',\n 'Last Name': 'Brown',\n 'Email': 'h.brown@randatmail.com',\n 'Location': '[0.22032874 0.33589301]',\n 'Registration': '10/15/2021',\n 'Phone': '236-4728-40',\n 'Comment': 'What do you mean it wasn’t a easy decision? It should have been your ONLY decision.You failed your community and the young ladies you were supposed to protect.Now when do the rest of the board and the superintendent follow her out the door.All school boards need to pay attention to what is going on and clean your houses up.'}"
     },
     "metadata": {}
    }
   ],
   "execution_count": null
  },
  {
   "cell_type": "code",
   "metadata": {
    "tags": [],
    "cell_id": "00004-197ac192-06ff-470e-acb4-97be432d851d",
    "deepnote_cell_type": "code"
   },
   "source": "# Write your own solution here",
   "outputs": [],
   "execution_count": null
  },
  {
   "cell_type": "markdown",
   "source": "# Section 4 Continued: Malware?\n## Exam Requirements\nYour friend tells you that their anonymous source also believes that some malware might have been used in some way. Your goals are to:\n* Write code which will identify whether or not any files were sent by the potential fake accounts\n* Determine whether or not malware was used by any potential fake accounts \n* If malware was used learn as much as you can about it so that you can describe it and draw a conclusion about intent\n* Determine who might have been targeted\n\n## Available Data \nYou will come to these conclusions based on what you know about the potential fake accounts you just identified, using the comments dataset, using the files dataset, and using VirusTotal.\n\n## Starter Code\nThe dataset \"files.csv\" is available to view in deepnote and is pre-loaded here for you in the object \"files\" as a dictionary.\n\n## Suggested Timing\n20 Minutes",
   "metadata": {
    "tags": [],
    "cell_id": "00005-e6bdf33f-c081-41d7-aad6-945107a0c529",
    "deepnote_cell_type": "markdown"
   }
  },
  {
   "cell_type": "code",
   "metadata": {
    "tags": [],
    "deepnote_to_be_reexecuted": false,
    "source_hash": "9243151",
    "execution_start": 1635118497703,
    "execution_millis": 3,
    "cell_id": "00006-a3964cf8-dc92-4166-be5a-a64a43d93b5a",
    "deepnote_cell_type": "code"
   },
   "source": "df = pd.read_csv(\"files.csv\")\nfiles = df.to_dict('records')\nfiles[0]",
   "outputs": [
    {
     "output_type": "execute_result",
     "execution_count": 27,
     "data": {
      "text/plain": "{'User ID': 707538,\n 'First Name': 'Sophia',\n 'Last Name': 'Phillips',\n 'Recipient ID': 1490300,\n 'File Sent': 'fe193deadc804a9257d68d3108f79a2b'}"
     },
     "metadata": {}
    }
   ],
   "execution_count": null
  },
  {
   "cell_type": "code",
   "metadata": {
    "tags": [],
    "cell_id": "00007-97b0ed7d-bc4b-4696-98af-a29517fc5037",
    "deepnote_cell_type": "code"
   },
   "source": "# Write your code here",
   "outputs": [],
   "execution_count": null
  },
  {
   "cell_type": "markdown",
   "source": "# Section Five: Analysis\n## Exam Requirement\nWrite an intelligence report for your friend to give to the CISOs of NextDoor (Lauren and April) which includes your analytical judgement(s) and evidence. Use all of the work that you have done in the preceeding sections to write this report and augment with additional open-source intelligence, VT analysis, or data analysis which you require to write a comprehensive report. \n\n## Suggested Timing\n20 Minutes",
   "metadata": {
    "tags": [],
    "cell_id": "00008-eef819e5-1b7d-42aa-a115-32d9d7dedf20",
    "deepnote_cell_type": "markdown"
   }
  },
  {
   "cell_type": "markdown",
   "source": "# Witty Title\nWrite your intel here",
   "metadata": {
    "tags": [],
    "cell_id": "00009-fd91090d-bc20-4b5c-b6ba-13bf23023e76",
    "deepnote_cell_type": "markdown"
   }
  },
  {
   "cell_type": "markdown",
   "source": "",
   "metadata": {
    "tags": [],
    "cell_id": "00010-7dc05f3d-a59b-4c62-89e7-b50dfc0d50e8",
    "deepnote_cell_type": "markdown"
   }
  },
  {
   "cell_type": "markdown",
   "source": "<a style='text-decoration:none;line-height:16px;display:flex;color:#5B5B62;padding:10px;justify-content:end;' href='https://deepnote.com?utm_source=created-in-deepnote-cell&projectId=553ec125-3a11-4cd4-a5a8-0c3d766a5bb8' target=\"_blank\">\n<img alt='Created in deepnote.com' style='display:inline;max-height:16px;margin:0px;margin-right:7.5px;' src='data:image/svg+xml;base64,PD94bWwgdmVyc2lvbj0iMS4wIiBlbmNvZGluZz0iVVRGLTgiPz4KPHN2ZyB3aWR0aD0iODBweCIgaGVpZ2h0PSI4MHB4IiB2aWV3Qm94PSIwIDAgODAgODAiIHZlcnNpb249IjEuMSIgeG1sbnM9Imh0dHA6Ly93d3cudzMub3JnLzIwMDAvc3ZnIiB4bWxuczp4bGluaz0iaHR0cDovL3d3dy53My5vcmcvMTk5OS94bGluayI+CiAgICA8IS0tIEdlbmVyYXRvcjogU2tldGNoIDU0LjEgKDc2NDkwKSAtIGh0dHBzOi8vc2tldGNoYXBwLmNvbSAtLT4KICAgIDx0aXRsZT5Hcm91cCAzPC90aXRsZT4KICAgIDxkZXNjPkNyZWF0ZWQgd2l0aCBTa2V0Y2guPC9kZXNjPgogICAgPGcgaWQ9IkxhbmRpbmciIHN0cm9rZT0ibm9uZSIgc3Ryb2tlLXdpZHRoPSIxIiBmaWxsPSJub25lIiBmaWxsLXJ1bGU9ImV2ZW5vZGQiPgogICAgICAgIDxnIGlkPSJBcnRib2FyZCIgdHJhbnNmb3JtPSJ0cmFuc2xhdGUoLTEyMzUuMDAwMDAwLCAtNzkuMDAwMDAwKSI+CiAgICAgICAgICAgIDxnIGlkPSJHcm91cC0zIiB0cmFuc2Zvcm09InRyYW5zbGF0ZSgxMjM1LjAwMDAwMCwgNzkuMDAwMDAwKSI+CiAgICAgICAgICAgICAgICA8cG9seWdvbiBpZD0iUGF0aC0yMCIgZmlsbD0iIzAyNjVCNCIgcG9pbnRzPSIyLjM3NjIzNzYyIDgwIDM4LjA0NzY2NjcgODAgNTcuODIxNzgyMiA3My44MDU3NTkyIDU3LjgyMTc4MjIgMzIuNzU5MjczOSAzOS4xNDAyMjc4IDMxLjY4MzE2ODMiPjwvcG9seWdvbj4KICAgICAgICAgICAgICAgIDxwYXRoIGQ9Ik0zNS4wMDc3MTgsODAgQzQyLjkwNjIwMDcsNzYuNDU0OTM1OCA0Ny41NjQ5MTY3LDcxLjU0MjI2NzEgNDguOTgzODY2LDY1LjI2MTk5MzkgQzUxLjExMjI4OTksNTUuODQxNTg0MiA0MS42NzcxNzk1LDQ5LjIxMjIyODQgMjUuNjIzOTg0Niw0OS4yMTIyMjg0IEMyNS40ODQ5Mjg5LDQ5LjEyNjg0NDggMjkuODI2MTI5Niw0My4yODM4MjQ4IDM4LjY0NzU4NjksMzEuNjgzMTY4MyBMNzIuODcxMjg3MSwzMi41NTQ0MjUgTDY1LjI4MDk3Myw2Ny42NzYzNDIxIEw1MS4xMTIyODk5LDc3LjM3NjE0NCBMMzUuMDA3NzE4LDgwIFoiIGlkPSJQYXRoLTIyIiBmaWxsPSIjMDAyODY4Ij48L3BhdGg+CiAgICAgICAgICAgICAgICA8cGF0aCBkPSJNMCwzNy43MzA0NDA1IEwyNy4xMTQ1MzcsMC4yNTcxMTE0MzYgQzYyLjM3MTUxMjMsLTEuOTkwNzE3MDEgODAsMTAuNTAwMzkyNyA4MCwzNy43MzA0NDA1IEM4MCw2NC45NjA0ODgyIDY0Ljc3NjUwMzgsNzkuMDUwMzQxNCAzNC4zMjk1MTEzLDgwIEM0Ny4wNTUzNDg5LDc3LjU2NzA4MDggNTMuNDE4MjY3Nyw3MC4zMTM2MTAzIDUzLjQxODI2NzcsNTguMjM5NTg4NSBDNTMuNDE4MjY3Nyw0MC4xMjg1NTU3IDM2LjMwMzk1NDQsMzcuNzMwNDQwNSAyNS4yMjc0MTcsMzcuNzMwNDQwNSBDMTcuODQzMDU4NiwzNy43MzA0NDA1IDkuNDMzOTE5NjYsMzcuNzMwNDQwNSAwLDM3LjczMDQ0MDUgWiIgaWQ9IlBhdGgtMTkiIGZpbGw9IiMzNzkzRUYiPjwvcGF0aD4KICAgICAgICAgICAgPC9nPgogICAgICAgIDwvZz4KICAgIDwvZz4KPC9zdmc+' > </img>\nCreated in <span style='font-weight:600;margin-left:4px;'>Deepnote</span></a>",
   "metadata": {
    "tags": [],
    "created_in_deepnote_cell": true,
    "deepnote_cell_type": "markdown"
   }
  }
 ],
 "nbformat": 4,
 "nbformat_minor": 2,
 "metadata": {
  "orig_nbformat": 2,
  "deepnote": {
   "is_reactive": false
  },
  "deepnote_notebook_id": "03f8964a-72a3-48dc-bb1f-e1e801c185c1",
  "deepnote_execution_queue": []
 }
}