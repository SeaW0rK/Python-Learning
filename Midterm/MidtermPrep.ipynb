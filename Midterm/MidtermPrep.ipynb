{
 "cells": [
  {
   "cell_type": "markdown",
   "source": "# Practice Problem: BAD PASSWORDS\n\nYour organization has terrible password security. You want to check to see if any common passwords are in use and find the accounts that have them set so you can send them an email asking them to change their password.\n\nYou have a list of common password hashes and a dictionary with each of your organizations accounts and hashed passwords. Write a function that can compare the two and return the user accouts that have bad passwords set.\n\n```python\nbad_passwords = ['db941ff0a535664048abe7b44dfbe870', \n                 '6a8ce1ee9e0fc443ed190ac8d03f3da4',\n                 'ff0eb2864feb22354747f8c85d42ccb5']\n\naccounts_pass = {'johnsmith': '6a8ce1ee9e0fc443ed190ac8d03f3da4',\n                 'jermolmiller': '0a604bf427ff4262ab9b164bfc717fe3',\n                 'kaicao': '6a8ce1ee9e0fc443ed190ac8d03f3da4'}\n```",
   "metadata": {
    "tags": [],
    "cell_id": "00003-3e1b18fe-10bb-48ae-a2ea-daedc0eee69c",
    "deepnote_cell_type": "markdown"
   }
  },
  {
   "cell_type": "code",
   "metadata": {
    "tags": [],
    "cell_id": "00001-7b7202b2-0092-4010-9548-1e1948cbc49a",
    "deepnote_cell_type": "code"
   },
   "source": "#bad_passwords#\n#check if hash is in ",
   "execution_count": null,
   "outputs": []
  },
  {
   "cell_type": "code",
   "metadata": {
    "tags": [],
    "cell_id": "00002-52a7d603-a9b5-4065-ad0e-ef07f4ded557",
    "deepnote_cell_type": "code"
   },
   "source": "for names, hashes in accounts_pass.items():\n\n\n# assumption the dictionary\n# drop the key??\n\n# compare bad_passwords to values in accounts_pass\n    # iterate and use a conditional (for account, hash in account_pass: do some if comparison against bad passwords)\n\n# return the keys that correspond from accounts_pass\n    # create a list at the beginning, within if statement append the keys\n\n\n# create list to hold user names\n# write for loop on keys and values of accounts_pass\n# conditional statement: if value is in bad_passwords:\n# append the key into the list of user names\n    \n\n",
   "execution_count": null,
   "outputs": []
  },
  {
   "cell_type": "code",
   "metadata": {
    "tags": [],
    "cell_id": "00003-b3994109-b18c-4ffa-8d92-753e105ab47d",
    "deepnote_cell_type": "code"
   },
   "source": "# compare list of passwords to values of dictionary \n# Return the keys of the dictionary \n\nbad_users = []\n\nfor user, pw in accounts_pass.items():\n    if pw in bad_passwords:\n        bad_users.append(user)\nprint(bad_users)",
   "execution_count": null,
   "outputs": []
  },
  {
   "cell_type": "markdown",
   "source": "\n# Practice Problem: IP Filter\nA vendor has provided you with a list of IP addresses that they said were used in a recent intrusion. Unfortunately, they really are not very good at their job; they included some RFC-1918 addresses in their list. Luckily, you know about private IP addresses and can figure out how to filter them out!\n\nOn a quick skim, you can tell the only addresses they've made mistakes with are in the range 10.0.0.0/8 (that is, the addresses 10.0.0.0 through 10.255.255.255, inclusive). Write a function that can take in a list of IPs and will return only the IPs from that list that are NOT in this private range.\n\n```python\nips = ['10.10.10.10', '1.1.1.1', '8.8.8.8', '100.100.100.100', '10.2.2.2']\n# this should return ['1.1.1.1', '8.8.8.8', '100.100.100.100'] only\n```\n",
   "metadata": {
    "tags": [],
    "cell_id": "00005-76b1a5e5-4f0a-4f3e-848d-b28dd81aeb08",
    "deepnote_cell_type": "markdown"
   }
  },
  {
   "cell_type": "code",
   "metadata": {
    "tags": [],
    "cell_id": "00003-eff11fad-c77c-4e19-9d3b-49e93eacabf8",
    "deepnote_cell_type": "code"
   },
   "source": "#define a list of bad ips\n##making a range from 10.0.0.0 through 10.255.255.255 \n#iterate through the list of ip to find the ",
   "execution_count": null,
   "outputs": []
  },
  {
   "cell_type": "markdown",
   "source": "# Question Three: COMPROMISED EMAIL\n*This was a final problem last semester*\n\nA client's email was compromised from 3pm to 5pm yesterday. You have data formatted with a dictionary that has all of the emails that they sent during the day, with the time as the key and the recipient list as the value.\n\nWrite a function that can take dictionaries formatted in this way and can return a ded-duplicated set of the emails that were contacted.\n\n```\nemails = {'3:00': 'bob@gmail.com',\n          '3:10': 'bob@gmail.com',\n          '3:15': 'jane@gmail.com',\n          '3:20': 'kai@yahoo.com',}\n```\n",
   "metadata": {
    "tags": [],
    "cell_id": "00004-f498abdd-694f-47be-9e33-fd680d712b41",
    "deepnote_cell_type": "markdown"
   }
  },
  {
   "cell_type": "code",
   "metadata": {
    "tags": [],
    "cell_id": "00005-5d8b37fb-af93-4d81-a586-af46d9718233",
    "deepnote_cell_type": "code"
   },
   "source": "#check time in key\n#set range of time you want to check\n#import module to read time\n",
   "execution_count": null,
   "outputs": []
  },
  {
   "cell_type": "markdown",
   "source": "# Question Four: Hard Problem\n\nWrite a function to determine with if there is an IP address that \"failed a password for root\" (must be that specific language) and was hosting malware on the same date. You may assume the log date is from the same year. If there is one, get the port it was using.",
   "metadata": {
    "tags": [],
    "cell_id": "00006-67ea9d9b-25c9-4a96-a702-76978db13e04",
    "deepnote_cell_type": "markdown"
   }
  },
  {
   "cell_type": "code",
   "metadata": {
    "tags": [],
    "cell_id": "00000-8b38119c-0ebb-440c-8b7e-26102970abfd",
    "deepnote_to_be_reexecuted": false,
    "source_hash": "697787cd",
    "execution_start": 1634945945078,
    "execution_millis": 1,
    "deepnote_cell_type": "code"
   },
   "source": "# hard time-filler problem\n\nlogs = \"\"\"Dec 10 07:28:47 LabSZ sshd[24283]: pam_unix(sshd:auth): authentication failure; logname= uid=0 euid=0 tty=ssh ruser= rhost=112.95.230.3  user=root\nDec 10 07:28:49 LabSZ sshd[24283]: Failed password for root from 111.95.230.3 port 51982 ssh2\nDec 10 07:28:50 LabSZ sshd[24283]: Received disconnect from 112.95.230.3: 11: Bye Bye [preauth]\nDec 10 07:28:51 LabSZ sshd[24285]: pam_unix(sshd:auth): authentication failure; logname= uid=0 euid=0 tty=ssh ruser= rhost=112.95.230.3  user=root\nDec 10 07:28:52 LabSZ sshd[24285]: Failed password for root from 114.95.230.3 port 53584 ssh2\nDec 10 07:28:53 LabSZ sshd[24285]: Received disconnect from 112.95.230.3: 11: Bye Bye [preauth]\nDec 10 07:32:24 LabSZ sshd[24287]: pam_unix(sshd:auth): authentication failure; logname= uid=0 euid=0 tty=ssh ruser= rhost=123.235.32.19  user=root\nDec 10 07:32:25 LabSZ sshd[24287]: Failed password for root from 123.235.32.19 port 40652 ssh2\nDec 10 07:32:26 LabSZ sshd[24287]: Received disconnect from 123.235.32.19: 11: Bye Bye [preauth]\nDec 10 07:32:27 LabSZ sshd[24289]: pam_unix(sshd:auth): authentication failure; logname= uid=0 euid=0 tty=ssh ruser= rhost=123.235.32.19  user=root\nDec 10 07:32:28 LabSZ sshd[24289]: Failed password for root from 123.235.32.19 port 49720 ssh2\nDec 10 07:32:29 LabSZ sshd[24289]: Received disconnect from 123.235.32.19: 11: Bye Bye [preauth]\nDec 10 07:33:58 LabSZ sshd[24291]: pam_unix(sshd:auth): authentication failure; logname= uid=0 euid=0 tty=ssh ruser= rhost=123.235.32.19  user=root\nDec 10 07:34:00 LabSZ sshd[24291]: Failed password for root from 123.235.32.19 port 45568 ssh2\nDec 10 07:34:01 LabSZ sshd[24291]: Received disconnect from 123.235.32.19: 11: Bye Bye [preauth]\nDec 10 07:34:02 LabSZ sshd[24293]: pam_unix(sshd:auth): authentication failure; logname= uid=0 euid=0 tty=ssh ruser= rhost=123.235.32.19  user=root\nDec 10 07:34:04 LabSZ sshd[24293]: Failed password for root from 123.235.32.19 port 48588 ssh2\nDec 10 07:34:06 LabSZ sshd[24293]: Received disconnect from 123.235.32.19: 11: Bye Bye [preauth]\nDec 10 07:34:07 LabSZ sshd[24295]: pam_unix(sshd:auth): authentication failure; logname= uid=0 euid=0 tty=ssh ruser= rhost=123.235.32.19  user=root\nDec 10 07:34:10 LabSZ sshd[24295]: Failed password for root from 123.215.32.19 port 50950 ssh2\"\"\"\n\nattacker_infra = {\n    \"111.95.230.3\": {\n        \"01-02-21\": [\"hop point\", \"c2\"],\n        \"02-03-21\": [\"c2\"],\n        \"12-10-21\": [\"phishing\", \"c2\", \"hosting\"] # nb: example valid hit\n    },\n    \"8.8.8.8\": {\n        \"02-01-21\": [\"phishing\", \"c2\", \"hosting\"], \n        \"02-02-21\": [\"phishing\", \"c2\", \"hosting\"],\n        \"03-01-21\": [\"c2\", \"hosting\"]\n    },\n    \"1.2.3.4\": {\n        \"02-05-21\": [\"phishing\"],\n        \"02-01-21\": [\"phishing\", \"c2\", \"hosting\"],\n        \"05-01-21\": [\"hop point\"]\n    },\n    \"8.8.8.9\": {\n        \"02-01-21\": [\"hop point\", \"c2\"]\n    },\n}\n",
   "execution_count": null,
   "outputs": []
  },
  {
   "cell_type": "code",
   "metadata": {
    "tags": [],
    "cell_id": "00008-1f80d271-d582-41da-914d-d185f6b3cf4a",
    "deepnote_to_be_reexecuted": false,
    "source_hash": "908f4caf",
    "execution_start": 1634689012157,
    "execution_millis": 24,
    "deepnote_cell_type": "code"
   },
   "source": "numbers = [1, 2, 3]\nletters = ['a', 'b', 'c']\n\nnumbers.extend(letters)\nnumbers",
   "execution_count": null,
   "outputs": [
    {
     "output_type": "execute_result",
     "execution_count": 4,
     "data": {
      "text/plain": "[1, 2, 3, 'a', 'b', 'c']"
     },
     "metadata": {}
    }
   ]
  },
  {
   "cell_type": "code",
   "metadata": {
    "tags": [],
    "cell_id": "00012-98be40e9-1e6d-4486-9928-afdde3d53c05",
    "deepnote_cell_type": "code"
   },
   "source": "def\n    ",
   "execution_count": null,
   "outputs": []
  },
  {
   "cell_type": "code",
   "metadata": {
    "tags": [],
    "cell_id": "00013-76dcb756-9451-4031-90b1-8ddf2a2d0a2b",
    "deepnote_to_be_reexecuted": false,
    "source_hash": "a4936937",
    "execution_start": 1634946339650,
    "execution_millis": 5,
    "deepnote_cell_type": "code"
   },
   "source": "# April's cell\n\n# from logs:\n    # to filter on specific language\n    # Date\n    # IP\n    # Port\n\n#some_dict = {\n    #'8.8.8.8.': {\n        #'12-01-02' : ['22222', '333344']\n        #...\n\n\n\nexample_log = \"Dec 10 07:28:49 LabSZ sshd[24283]: Failed password for root from 111.95.230.3 port 51982 ssh2\"\n\n# how to filter?\nsplit_logs = logs.splitlines()\n[x for x in split_logs if \"Failed password for root\" in x]\n\n# date\nexample_log.split()[0:2]\n# clean up the date\n# ...\n\n# ip \nip = example_log.split()[10]\n\n# port\nexample_log.split()[12]\n\ndata = {}\n\n",
   "execution_count": null,
   "outputs": []
  },
  {
   "cell_type": "code",
   "metadata": {
    "tags": [],
    "cell_id": "00014-b90faadd-7833-4a4e-b67e-c032f20c3905",
    "deepnote_to_be_reexecuted": false,
    "source_hash": "92ec3a03",
    "execution_start": 1634946440690,
    "execution_millis": 22,
    "deepnote_cell_type": "code"
   },
   "source": "# need ip address\n# need to match dates - dates in log and sample are not set-up the same\n# need to find exact match of specific string within logs\n# need to get the port number if above is true\nlist_of_logs = logs.splitlines()\ntargets = []\nfor strings in list_of_logs:\n    if 'Failed password for root' in strings:\n        targets.append(strings)\n# this gets list of only the logs we care about\n# need to split each string?\n# date format needs to be changed\n# need to match ip in logs to ip in attack_infra dict (ip is a key there)\n# date\n# example_log.split()[0:2]\n# clean up the date\n# ...\n# ip \n# example_log.split()[10]\n# port\n# example_log.split()[12]\nlog_dict = {}\nfor log in targets:\n    ip = log.split()[10]\n    date = log.split()[0:2]\n    port = log.split()[12]\n    log_dict[ip] = {''.join(date) : ''.join(port)}\nlog_dict\n\n",
   "execution_count": null,
   "outputs": [
    {
     "output_type": "execute_result",
     "execution_count": 33,
     "data": {
      "text/plain": "{'111.95.230.3': {'Dec10': '51982'},\n '114.95.230.3': {'Dec10': '53584'},\n '123.235.32.19': {'Dec10': '48588'},\n '123.215.32.19': {'Dec10': '50950'}}"
     },
     "metadata": {}
    }
   ]
  },
  {
   "cell_type": "code",
   "metadata": {
    "tags": [],
    "cell_id": "00015-5fb32ada-c2e6-462b-9b95-ce40cad50b00",
    "deepnote_to_be_reexecuted": false,
    "source_hash": "29d0a92e",
    "execution_start": 1634945686393,
    "execution_millis": 12,
    "deepnote_cell_type": "code"
   },
   "source": "#MONTSE\n#split lines\n#check if failed password exists\n#DATE\n#IP\n#PORT\n\nsplit_logs = logs.splitlines()\nfailed_lines = [] # will ontain list of lines that contain failed password\n\nfor line in split_logs:\n    if \"failed password\" in line.lower():\n        failed_lines.append(line)\n\nprint(failed_lines)\ndata = dict([], [‘key2’, ‘value’])\n\n    \ndata = {}\nfor line in failed_lines:\n\n\n\n\n#create key\n#create values\n",
   "execution_count": null,
   "outputs": [
    {
     "name": "stdout",
     "text": "['Dec 10 07:28:49 LabSZ sshd[24283]: Failed password for root from 111.95.230.3 port 51982 ssh2', 'Dec 10 07:28:51 LabSZ sshd[24285]: Failed password for root from 114.95.230.3 port 53584 ssh2', 'Dec 10 07:32:27 LabSZ sshd[24287]: Failed password for root from 123.235.32.19 port 40652 ssh2', 'Dec 10 07:32:29 LabSZ sshd[24289]: Failed password for root from 123.235.32.19 port 49720 ssh2', 'Dec 10 07:34:00 LabSZ sshd[24291]: Failed password for root from 123.235.32.19 port 45568 ssh2', 'Dec 10 07:34:04 LabSZ sshd[24293]: Failed password for root from 123.235.32.19 port 48588 ssh2', 'Dec 10 07:34:10 LabSZ sshd[24295]: Failed password for root from 123.215.32.19 port 50950 ssh2']\n",
     "output_type": "stream"
    }
   ]
  },
  {
   "cell_type": "code",
   "metadata": {
    "tags": [],
    "cell_id": "00016-43440cdb-8fd6-46f4-b78b-7fc018356062",
    "deepnote_to_be_reexecuted": false,
    "source_hash": "ba4c5e8b",
    "execution_start": 1634946788441,
    "execution_millis": 0,
    "deepnote_cell_type": "code"
   },
   "source": "example = {\n    'iocs': {\n        'high confidence': {\n            'domains': ['evil.com',\n                'bad.com'\n            ],\n            'ips': ['8.8.8.8'],\n            'hashes': [{\n                'md5': '098F6BCD4621D373CADE4E832627B4F6',\n                'sha1': 'A94A8FE5CCB19BA61C4C0873D391E987982FBBD3',\n                'sha256': '9F86D081884C7D659A2FEAA0C55AD015A3BF4F1B2B0B822CD15D6C15B0F00A08'\n            }]\n        },\n        'medium confidence': {\n            'domains': ['test.com', 'lessbad.com'],\n            'ips': ['10.10.10.10'],\n            'hashes': [{\n                'md5': '5D41402ABC4B2A76B9719D911017C592',\n                'sha1': 'AAF4C61DDCC5E8A2DABEDE0F3B482CD9AEA9434D',\n                'sha256': '2CF24DBA5FB0A30E26E83B2AC5B9E29E1B161E5C1FA7425E73043362938B9824'\n            }, {\n                'sha256': '2CF24DBA5FB0A30E26E83B2AC5B9E29E1B161E5C1FA7425E73043362938B9824'\n            }]\n\n        },\n        'low confidence': {\n            'domains': ['nice.com', 'good.com'],\n            'ips': ['2.2.2.2'],\n            'hashes': [{\n                'md5': '7D793037A0760186574B0282F2F435E7',\n                'sha1': '7C211433F02071597741E6FF5A8EA34789ABBF43',\n                'sha256': '486EA46224D1BB4FB680F34F7C9AD96A8F24EC88BE73EA8E5A6C65260E9CB8A7'\n            }]\n        }\n    }\n}",
   "execution_count": null,
   "outputs": []
  },
  {
   "cell_type": "code",
   "metadata": {
    "tags": [],
    "cell_id": "00017-a0ae9183-59b4-4390-8c6a-a39e84bd7e7e",
    "deepnote_to_be_reexecuted": false,
    "source_hash": "5a63aeab",
    "execution_start": 1635113272887,
    "execution_millis": 445,
    "deepnote_cell_type": "code"
   },
   "source": "# stephen\nx = example.get('iocs')\ntemp = []\nfor key, value in x.items():\n    temp_var = value.get('hashes')\n    for each_dict in temp_var:\n        temp.append(each_dict.get('sha256'))\ntemp\n# when you use for each_dict in temp_var\n# the dict within each temp_var is named each_dict\n# allowing you to use each_dict.get(), etc",
   "execution_count": null,
   "outputs": [
    {
     "output_type": "error",
     "ename": "NameError",
     "evalue": "name 'example' is not defined",
     "traceback": [
      "\u001b[0;31m---------------------------------------------------------------------------\u001b[0m",
      "\u001b[0;31mNameError\u001b[0m                                 Traceback (most recent call last)",
      "\u001b[0;32m<ipython-input-1-be0a20cf3fa3>\u001b[0m in \u001b[0;36m<module>\u001b[0;34m\u001b[0m\n\u001b[1;32m      1\u001b[0m \u001b[0;31m# stephen\u001b[0m\u001b[0;34m\u001b[0m\u001b[0;34m\u001b[0m\u001b[0;34m\u001b[0m\u001b[0m\n\u001b[0;32m----> 2\u001b[0;31m \u001b[0mx\u001b[0m \u001b[0;34m=\u001b[0m \u001b[0mexample\u001b[0m\u001b[0;34m.\u001b[0m\u001b[0mget\u001b[0m\u001b[0;34m(\u001b[0m\u001b[0;34m'iocs'\u001b[0m\u001b[0;34m)\u001b[0m\u001b[0;34m\u001b[0m\u001b[0;34m\u001b[0m\u001b[0m\n\u001b[0m\u001b[1;32m      3\u001b[0m \u001b[0mtemp\u001b[0m \u001b[0;34m=\u001b[0m \u001b[0;34m[\u001b[0m\u001b[0;34m]\u001b[0m\u001b[0;34m\u001b[0m\u001b[0;34m\u001b[0m\u001b[0m\n\u001b[1;32m      4\u001b[0m \u001b[0;32mfor\u001b[0m \u001b[0mkey\u001b[0m\u001b[0;34m,\u001b[0m \u001b[0mvalue\u001b[0m \u001b[0;32min\u001b[0m \u001b[0mx\u001b[0m\u001b[0;34m.\u001b[0m\u001b[0mitems\u001b[0m\u001b[0;34m(\u001b[0m\u001b[0;34m)\u001b[0m\u001b[0;34m:\u001b[0m\u001b[0;34m\u001b[0m\u001b[0;34m\u001b[0m\u001b[0m\n\u001b[1;32m      5\u001b[0m     \u001b[0mtemp_var\u001b[0m \u001b[0;34m=\u001b[0m \u001b[0mvalue\u001b[0m\u001b[0;34m.\u001b[0m\u001b[0mget\u001b[0m\u001b[0;34m(\u001b[0m\u001b[0;34m'hashes'\u001b[0m\u001b[0;34m)\u001b[0m\u001b[0;34m\u001b[0m\u001b[0;34m\u001b[0m\u001b[0m\n",
      "\u001b[0;31mNameError\u001b[0m: name 'example' is not defined"
     ]
    }
   ]
  },
  {
   "cell_type": "code",
   "metadata": {
    "tags": [],
    "cell_id": "00017-c2799c13-2ba1-4ba2-9371-8d2b102247dd",
    "deepnote_to_be_reexecuted": false,
    "source_hash": "c2ef9cb2",
    "execution_start": 1634948060548,
    "execution_millis": 3,
    "deepnote_cell_type": "code"
   },
   "source": "# big dictionary = example\n# it has other dictionaries inside it\n\nexample\n\niocs = example.get(\"iocs\")\n# domain_list = []\nfor key, value in iocs.items(): #so it gets key and value\n    #display(key)\n    #display(value)\n    # we have a dictionary called value\n    # get domain from value\n    domains = value.get('domains')\n    domains.append('google.com')",
   "execution_count": null,
   "outputs": []
  },
  {
   "cell_type": "code",
   "metadata": {
    "tags": [],
    "cell_id": "00019-9460e76b-ebeb-4bee-9ba6-75c6a046cd51",
    "deepnote_to_be_reexecuted": false,
    "source_hash": "6c549fb3",
    "execution_start": 1634948065092,
    "execution_millis": 7,
    "deepnote_cell_type": "code"
   },
   "source": "example",
   "execution_count": null,
   "outputs": [
    {
     "output_type": "execute_result",
     "execution_count": 62,
     "data": {
      "text/plain": "{'iocs': {'high confidence': {'domains': ['evil.com', 'bad.com', 'google.com'],\n   'ips': ['8.8.8.8'],\n   'hashes': [{'md5': '098F6BCD4621D373CADE4E832627B4F6',\n     'sha1': 'A94A8FE5CCB19BA61C4C0873D391E987982FBBD3',\n     'sha256': '9F86D081884C7D659A2FEAA0C55AD015A3BF4F1B2B0B822CD15D6C15B0F00A08'}]},\n  'medium confidence': {'domains': ['test.com', 'lessbad.com', 'google.com'],\n   'ips': ['10.10.10.10'],\n   'hashes': [{'md5': '5D41402ABC4B2A76B9719D911017C592',\n     'sha1': 'AAF4C61DDCC5E8A2DABEDE0F3B482CD9AEA9434D',\n     'sha256': '2CF24DBA5FB0A30E26E83B2AC5B9E29E1B161E5C1FA7425E73043362938B9824'},\n    {'sha256': '2CF24DBA5FB0A30E26E83B2AC5B9E29E1B161E5C1FA7425E73043362938B9824'}]},\n  'low confidence': {'domains': ['nice.com', 'good.com', 'google.com'],\n   'ips': ['2.2.2.2'],\n   'hashes': [{'md5': '7D793037A0760186574B0282F2F435E7',\n     'sha1': '7C211433F02071597741E6FF5A8EA34789ABBF43',\n     'sha256': '486EA46224D1BB4FB680F34F7C9AD96A8F24EC88BE73EA8E5A6C65260E9CB8A7'}]}}}"
     },
     "metadata": {}
    }
   ]
  },
  {
   "cell_type": "code",
   "metadata": {
    "tags": [],
    "cell_id": "00020-7b041cc6-cb45-49c9-ba22-b00bdb8a792e",
    "deepnote_cell_type": "code"
   },
   "source": "",
   "execution_count": null,
   "outputs": []
  },
  {
   "cell_type": "code",
   "metadata": {
    "tags": [],
    "cell_id": "00022-ac1d09c0-234f-4316-af63-8f16beec7efb",
    "deepnote_to_be_reexecuted": false,
    "source_hash": "9fe1128b",
    "execution_start": 1634948968486,
    "execution_millis": 3,
    "deepnote_cell_type": "code"
   },
   "source": "# Write a url_constructor function here\nkey = ''\ndef url_construct(key, lat, lon, cat):\n  base_str = 'http://api.wikimapia.org/?function=place.getnearest'\n  key_str = '&key=' + str(key)\n  lat_str = '&lat=' + str(lat)\n  lon_str = '&lon=' + str(lon)\n  format_str = '&format=json' #set defalt html return format to JSON\n  cat_str = '&category=' + str(cat)\n  url_final = base_str + key_str + lat_str + lon_str + format_str + cat_str\n  return(url_final) \n\n# Call your function here and save the resulting string in the variable `url`\nurl = url_construct(key, 38.881028, -77.1110952, 'coffeehouse') #function call\nprint(url)",
   "execution_count": null,
   "outputs": [
    {
     "name": "stdout",
     "text": "http://api.wikimapia.org/?function=place.getnearest&key=EF392671-C725CB3F-B48A568A-00192CC0-198E4BE0-CEFC7025-564F2AF9-FD5F7F79&lat=38.881028&lon=-77.1110952&format=json&category=coffeehouse\n",
     "output_type": "stream"
    }
   ]
  },
  {
   "cell_type": "code",
   "metadata": {
    "tags": [],
    "cell_id": "00023-1e9a1aab-26ca-4629-9923-9a089e68ab3f",
    "deepnote_to_be_reexecuted": false,
    "source_hash": "43d658cd",
    "execution_start": 1634948981697,
    "execution_millis": 412,
    "deepnote_cell_type": "code"
   },
   "source": "import requests #importing the request module\n#import module contains a method .get()\nr = requests.get(url) # the request module reaches out to the webserver hosting the page associated with this URL and 'gets' the HTML data\n#object r has an attribute called .status_code that tells you if the request was successful\nprint(r.status_code) # checks the status of the GET request we just made: 200 = good request; 404 = object not found; etc.\nprint(r.text)",
   "execution_count": null,
   "outputs": [
    {
     "name": "stdout",
     "text": "200\n{\"language\":\"en\",\"places\":[{\"id\":30590454,\"title\":\"Dunkin' Donuts\",\"language_id\":0,\"language\":\"en\",\"url\":\"http:\\/\\/wikimapia.org\\/30590454\\/en\\/Dunkin'_Donuts\",\"urlhtml\":\"<a class=\\\"wikimapia-link\\\" href=\\\"http:\\/\\/wikimapia.org\\/30590454\\/en\\/Dunkin'_Donuts\\\">Dunkin' Donuts<\\/a>\",\"distance\":17,\"location\":{\"north\":38.8809484,\"south\":38.8801801,\"east\":-77.1105212,\"west\":-77.1114358,\"lon\":-77.1109785,\"lat\":38.88056425},\"polygon\":[{\"x\":-77.111379,\"y\":38.880401},{\"x\":-77.111435,\"y\":38.880776},{\"x\":-77.111379,\"y\":38.880786},{\"x\":-77.111369,\"y\":38.880819},{\"x\":-77.111318,\"y\":38.880807},{\"x\":-77.111316,\"y\":38.880848},{\"x\":-77.111252,\"y\":38.880889},{\"x\":-77.111204,\"y\":38.880891},{\"x\":-77.111199,\"y\":38.880945},{\"x\":-77.110835,\"y\":38.880927},{\"x\":-77.110835,\"y\":38.880873},{\"x\":-77.110837,\"y\":38.880853},{\"x\":-77.110768,\"y\":38.880849},{\"x\":-77.11077,\"y\":38.880793},{\"x\":-77.110826,\"y\":38.880789},{\"x\":-77.110821,\"y\":38.880775},{\"x\":-77.110722,\"y\":38.880686},{\"x\":-77.110704,\"y\":38.880688},{\"x\":-77.110706,\"y\":38.880738},{\"x\":-77.110618,\"y\":38.880736},{\"x\":-77.110618,\"y\":38.880682},{\"x\":-77.110525,\"y\":38.880682},{\"x\":-77.110533,\"y\":38.880315},{\"x\":-77.110589,\"y\":38.880313},{\"x\":-77.110589,\"y\":38.880272},{\"x\":-77.110704,\"y\":38.88022},{\"x\":-77.110704,\"y\":38.880191},{\"x\":-77.11073,\"y\":38.880183},{\"x\":-77.111148,\"y\":38.880203},{\"x\":-77.111135,\"y\":38.880274},{\"x\":-77.111137,\"y\":38.880326},{\"x\":-77.111209,\"y\":38.880388}]},{\"id\":23290505,\"title\":\"Buzz Bakery\",\"language_id\":0,\"language\":\"en\",\"url\":\"http:\\/\\/wikimapia.org\\/23290505\\/en\\/Buzz_Bakery\",\"urlhtml\":\"<a class=\\\"wikimapia-link\\\" href=\\\"http:\\/\\/wikimapia.org\\/23290505\\/en\\/Buzz_Bakery\\\">Buzz Bakery<\\/a>\",\"distance\":360,\"location\":{\"north\":38.880578,\"south\":38.8800602,\"east\":-77.1076834,\"west\":-77.1080642,\"lon\":-77.1078738,\"lat\":38.8803191},\"polygon\":[{\"x\":-77.107926,\"y\":38.88006},{\"x\":-77.107936,\"y\":38.880067},{\"x\":-77.108032,\"y\":38.880063},{\"x\":-77.108056,\"y\":38.880074},{\"x\":-77.108062,\"y\":38.880162},{\"x\":-77.108051,\"y\":38.880163},{\"x\":-77.108052,\"y\":38.880192},{\"x\":-77.108036,\"y\":38.880194},{\"x\":-77.108038,\"y\":38.880205},{\"x\":-77.107986,\"y\":38.88021},{\"x\":-77.108004,\"y\":38.880398},{\"x\":-77.107995,\"y\":38.880427},{\"x\":-77.107994,\"y\":38.880448},{\"x\":-77.108004,\"y\":38.880448},{\"x\":-77.10801,\"y\":38.880523},{\"x\":-77.108001,\"y\":38.880526},{\"x\":-77.108,\"y\":38.880555},{\"x\":-77.107732,\"y\":38.880572},{\"x\":-77.10773,\"y\":38.880543},{\"x\":-77.107721,\"y\":38.880543},{\"x\":-77.107713,\"y\":38.880462},{\"x\":-77.107722,\"y\":38.880462},{\"x\":-77.107721,\"y\":38.880444},{\"x\":-77.1077,\"y\":38.880403},{\"x\":-77.107683,\"y\":38.880196},{\"x\":-77.107699,\"y\":38.880164},{\"x\":-77.10769,\"y\":38.880072}]},{\"id\":35814123,\"title\":\"Starbucks\",\"language_id\":0,\"language\":\"en\",\"url\":\"http:\\/\\/wikimapia.org\\/35814123\\/en\\/Starbucks\",\"urlhtml\":\"<a class=\\\"wikimapia-link\\\" href=\\\"http:\\/\\/wikimapia.org\\/35814123\\/en\\/Starbucks\\\">Starbucks<\\/a>\",\"distance\":371,\"location\":{\"north\":38.8810655,\"south\":38.8802198,\"east\":-77.1138632,\"west\":-77.1149656,\"lon\":-77.1144144,\"lat\":38.88064265},\"polygon\":[{\"x\":-77.114737,\"y\":38.881065},{\"x\":-77.114965,\"y\":38.880792},{\"x\":-77.11477,\"y\":38.880651},{\"x\":-77.114363,\"y\":38.88047},{\"x\":-77.113953,\"y\":38.880222},{\"x\":-77.113865,\"y\":38.880353},{\"x\":-77.113902,\"y\":38.880935},{\"x\":-77.114476,\"y\":38.880933}]}],\"found\":0,\"count\":5}\n",
     "output_type": "stream"
    }
   ]
  },
  {
   "cell_type": "code",
   "metadata": {
    "tags": [],
    "cell_id": "00024-a713a190-ffb7-43f3-a465-c1eea891e832",
    "deepnote_to_be_reexecuted": false,
    "source_hash": "89a15bc3",
    "execution_start": 1634950817920,
    "execution_millis": 27,
    "deepnote_cell_type": "code"
   },
   "source": "results = r.json().get('places') #this is using the .json() method on the r object to interpret it as a JSON object; then .get() method to return the value of the 'places' key in the dictionary\nresults #display value of the 'places' key which is a list of three dictionaries\n\nstores = []\nfor coffee_shop in results:\n    # coffee_shop results[0] mylist\n    #display(coffee_shop)\n    distance = coffee_shop.get(\"distance\")\n    shop = coffee_shop.get(\"title\")\n    display(distance, shop)\n    stores.append([distance, shop])\ndisplay(stores)\n#Look for the smallest item in list\nfor item in stores:\n    if [0] <18\n\n#ALWAYS NAME AND STORE THINGS!\n\n# some_value = ?? \n# if the distance is < some_value: change it",
   "execution_count": null,
   "outputs": [
    {
     "data": {
      "text/plain": "17"
     },
     "metadata": {},
     "output_type": "display_data"
    },
    {
     "data": {
      "text/plain": "\"Dunkin' Donuts\""
     },
     "metadata": {},
     "output_type": "display_data"
    },
    {
     "data": {
      "text/plain": "360"
     },
     "metadata": {},
     "output_type": "display_data"
    },
    {
     "data": {
      "text/plain": "'Buzz Bakery'"
     },
     "metadata": {},
     "output_type": "display_data"
    },
    {
     "data": {
      "text/plain": "371"
     },
     "metadata": {},
     "output_type": "display_data"
    },
    {
     "data": {
      "text/plain": "'Starbucks'"
     },
     "metadata": {},
     "output_type": "display_data"
    },
    {
     "data": {
      "text/plain": "[[17, \"Dunkin' Donuts\"], [360, 'Buzz Bakery'], [371, 'Starbucks']]"
     },
     "metadata": {},
     "output_type": "display_data"
    }
   ]
  },
  {
   "cell_type": "code",
   "metadata": {
    "tags": [],
    "cell_id": "00025-badabd66-c0bb-436d-b077-9091c36cea3e",
    "deepnote_to_be_reexecuted": false,
    "source_hash": "904ca4c8",
    "execution_start": 1634950984426,
    "execution_millis": 373,
    "deepnote_cell_type": "code"
   },
   "source": "import folium",
   "execution_count": null,
   "outputs": []
  },
  {
   "cell_type": "code",
   "metadata": {
    "tags": [],
    "cell_id": "00026-782cfd1b-94d5-4703-857f-201ad193a73d",
    "deepnote_to_be_reexecuted": false,
    "source_hash": "769df431",
    "execution_start": 1634950990670,
    "execution_millis": 52,
    "deepnote_cell_type": "code"
   },
   "source": "m = folium.Map(location=[38.881028, -77.1110952]) #instantiate the map object\n\n#def funciton that take lat, lon, title, border color, fill status, fill color\ndef add_marker(lat, lon, title, color_border='red', fill_1=True, color_fill='red'):\n  folium.CircleMarker(\n    location=[lat, lon], #this is the lat & lon you enter\n    radius=1, #all that follows are default values\n    popup= title, #pass the title of the location form results\n    color = color_border,\n    fill = fill_1,\n    fill_color = color_fill\n    ).add_to(m);",
   "execution_count": null,
   "outputs": []
  },
  {
   "cell_type": "code",
   "metadata": {
    "tags": [],
    "cell_id": "00027-20eae6cf-8b6c-4096-b990-c8c88fd32e17",
    "deepnote_to_be_reexecuted": false,
    "source_hash": "83e30d",
    "execution_start": 1634950998000,
    "execution_millis": 31,
    "deepnote_cell_type": "code"
   },
   "source": "folium.Marker(\n    location = [38.881028, -77.1110952],\n    popup = 'Attacker IP', #marker for attacker IP location\n    icon=folium.Icon(color='red', icon='info-sign')\n    ).add_to(m)\n\nfor each in results: #iterate through each entry in the results list\n  title = each.get('title') #get the name of the shop\n  x = each.get('location') #extract the location dictionary and rename 'x'\n  lat = x.get('lat') #extract the value for the lat key; store as variable lat\n  lon = x.get('lon') #extract the value for the lon key; store as variable lon\n  add_marker(lat, lon, title) #call add_marker function and pass it lat/lon params\n\nm #display the map",
   "execution_count": null,
   "outputs": [
    {
     "output_type": "execute_result",
     "execution_count": 110,
     "data": {
      "text/plain": "<folium.folium.Map at 0x7fc83ecc4c50>",
      "text/html": "<div style=\"width:100%;\"><div style=\"position:relative;width:100%;height:0;padding-bottom:60%;\"><span style=\"color:#565656\">Make this Notebook Trusted to load map: File -> Trust Notebook</span><iframe src=\"about:blank\" style=\"position:absolute;width:100%;height:100%;left:0;top:0;border:none !important;\" data-html=%3C%21DOCTYPE%20html%3E%0A%3Chead%3E%20%20%20%20%0A%20%20%20%20%3Cmeta%20http-equiv%3D%22content-type%22%20content%3D%22text/html%3B%20charset%3DUTF-8%22%20/%3E%0A%20%20%20%20%0A%20%20%20%20%20%20%20%20%3Cscript%3E%0A%20%20%20%20%20%20%20%20%20%20%20%20L_NO_TOUCH%20%3D%20false%3B%0A%20%20%20%20%20%20%20%20%20%20%20%20L_DISABLE_3D%20%3D%20false%3B%0A%20%20%20%20%20%20%20%20%3C/script%3E%0A%20%20%20%20%0A%20%20%20%20%3Cstyle%3Ehtml%2C%20body%20%7Bwidth%3A%20100%25%3Bheight%3A%20100%25%3Bmargin%3A%200%3Bpadding%3A%200%3B%7D%3C/style%3E%0A%20%20%20%20%3Cstyle%3E%23map%20%7Bposition%3Aabsolute%3Btop%3A0%3Bbottom%3A0%3Bright%3A0%3Bleft%3A0%3B%7D%3C/style%3E%0A%20%20%20%20%3Cscript%20src%3D%22https%3A//cdn.jsdelivr.net/npm/leaflet%401.6.0/dist/leaflet.js%22%3E%3C/script%3E%0A%20%20%20%20%3Cscript%20src%3D%22https%3A//code.jquery.com/jquery-1.12.4.min.js%22%3E%3C/script%3E%0A%20%20%20%20%3Cscript%20src%3D%22https%3A//maxcdn.bootstrapcdn.com/bootstrap/3.2.0/js/bootstrap.min.js%22%3E%3C/script%3E%0A%20%20%20%20%3Cscript%20src%3D%22https%3A//cdnjs.cloudflare.com/ajax/libs/Leaflet.awesome-markers/2.0.2/leaflet.awesome-markers.js%22%3E%3C/script%3E%0A%20%20%20%20%3Clink%20rel%3D%22stylesheet%22%20href%3D%22https%3A//cdn.jsdelivr.net/npm/leaflet%401.6.0/dist/leaflet.css%22/%3E%0A%20%20%20%20%3Clink%20rel%3D%22stylesheet%22%20href%3D%22https%3A//maxcdn.bootstrapcdn.com/bootstrap/3.2.0/css/bootstrap.min.css%22/%3E%0A%20%20%20%20%3Clink%20rel%3D%22stylesheet%22%20href%3D%22https%3A//maxcdn.bootstrapcdn.com/bootstrap/3.2.0/css/bootstrap-theme.min.css%22/%3E%0A%20%20%20%20%3Clink%20rel%3D%22stylesheet%22%20href%3D%22https%3A//maxcdn.bootstrapcdn.com/font-awesome/4.6.3/css/font-awesome.min.css%22/%3E%0A%20%20%20%20%3Clink%20rel%3D%22stylesheet%22%20href%3D%22https%3A//cdnjs.cloudflare.com/ajax/libs/Leaflet.awesome-markers/2.0.2/leaflet.awesome-markers.css%22/%3E%0A%20%20%20%20%3Clink%20rel%3D%22stylesheet%22%20href%3D%22https%3A//cdn.jsdelivr.net/gh/python-visualization/folium/folium/templates/leaflet.awesome.rotate.min.css%22/%3E%0A%20%20%20%20%0A%20%20%20%20%20%20%20%20%20%20%20%20%3Cmeta%20name%3D%22viewport%22%20content%3D%22width%3Ddevice-width%2C%0A%20%20%20%20%20%20%20%20%20%20%20%20%20%20%20%20initial-scale%3D1.0%2C%20maximum-scale%3D1.0%2C%20user-scalable%3Dno%22%20/%3E%0A%20%20%20%20%20%20%20%20%20%20%20%20%3Cstyle%3E%0A%20%20%20%20%20%20%20%20%20%20%20%20%20%20%20%20%23map_364d1749fcab49d1a1aa6d72433e89ce%20%7B%0A%20%20%20%20%20%20%20%20%20%20%20%20%20%20%20%20%20%20%20%20position%3A%20relative%3B%0A%20%20%20%20%20%20%20%20%20%20%20%20%20%20%20%20%20%20%20%20width%3A%20100.0%25%3B%0A%20%20%20%20%20%20%20%20%20%20%20%20%20%20%20%20%20%20%20%20height%3A%20100.0%25%3B%0A%20%20%20%20%20%20%20%20%20%20%20%20%20%20%20%20%20%20%20%20left%3A%200.0%25%3B%0A%20%20%20%20%20%20%20%20%20%20%20%20%20%20%20%20%20%20%20%20top%3A%200.0%25%3B%0A%20%20%20%20%20%20%20%20%20%20%20%20%20%20%20%20%7D%0A%20%20%20%20%20%20%20%20%20%20%20%20%3C/style%3E%0A%20%20%20%20%20%20%20%20%0A%3C/head%3E%0A%3Cbody%3E%20%20%20%20%0A%20%20%20%20%0A%20%20%20%20%20%20%20%20%20%20%20%20%3Cdiv%20class%3D%22folium-map%22%20id%3D%22map_364d1749fcab49d1a1aa6d72433e89ce%22%20%3E%3C/div%3E%0A%20%20%20%20%20%20%20%20%0A%3C/body%3E%0A%3Cscript%3E%20%20%20%20%0A%20%20%20%20%0A%20%20%20%20%20%20%20%20%20%20%20%20var%20map_364d1749fcab49d1a1aa6d72433e89ce%20%3D%20L.map%28%0A%20%20%20%20%20%20%20%20%20%20%20%20%20%20%20%20%22map_364d1749fcab49d1a1aa6d72433e89ce%22%2C%0A%20%20%20%20%20%20%20%20%20%20%20%20%20%20%20%20%7B%0A%20%20%20%20%20%20%20%20%20%20%20%20%20%20%20%20%20%20%20%20center%3A%20%5B38.881028%2C%20-77.1110952%5D%2C%0A%20%20%20%20%20%20%20%20%20%20%20%20%20%20%20%20%20%20%20%20crs%3A%20L.CRS.EPSG3857%2C%0A%20%20%20%20%20%20%20%20%20%20%20%20%20%20%20%20%20%20%20%20zoom%3A%2010%2C%0A%20%20%20%20%20%20%20%20%20%20%20%20%20%20%20%20%20%20%20%20zoomControl%3A%20true%2C%0A%20%20%20%20%20%20%20%20%20%20%20%20%20%20%20%20%20%20%20%20preferCanvas%3A%20false%2C%0A%20%20%20%20%20%20%20%20%20%20%20%20%20%20%20%20%7D%0A%20%20%20%20%20%20%20%20%20%20%20%20%29%3B%0A%0A%20%20%20%20%20%20%20%20%20%20%20%20%0A%0A%20%20%20%20%20%20%20%20%0A%20%20%20%20%0A%20%20%20%20%20%20%20%20%20%20%20%20var%20tile_layer_a095cd3e6be34dfdac763c49e4123e37%20%3D%20L.tileLayer%28%0A%20%20%20%20%20%20%20%20%20%20%20%20%20%20%20%20%22https%3A//%7Bs%7D.tile.openstreetmap.org/%7Bz%7D/%7Bx%7D/%7By%7D.png%22%2C%0A%20%20%20%20%20%20%20%20%20%20%20%20%20%20%20%20%7B%22attribution%22%3A%20%22Data%20by%20%5Cu0026copy%3B%20%5Cu003ca%20href%3D%5C%22http%3A//openstreetmap.org%5C%22%5Cu003eOpenStreetMap%5Cu003c/a%5Cu003e%2C%20under%20%5Cu003ca%20href%3D%5C%22http%3A//www.openstreetmap.org/copyright%5C%22%5Cu003eODbL%5Cu003c/a%5Cu003e.%22%2C%20%22detectRetina%22%3A%20false%2C%20%22maxNativeZoom%22%3A%2018%2C%20%22maxZoom%22%3A%2018%2C%20%22minZoom%22%3A%200%2C%20%22noWrap%22%3A%20false%2C%20%22opacity%22%3A%201%2C%20%22subdomains%22%3A%20%22abc%22%2C%20%22tms%22%3A%20false%7D%0A%20%20%20%20%20%20%20%20%20%20%20%20%29.addTo%28map_364d1749fcab49d1a1aa6d72433e89ce%29%3B%0A%20%20%20%20%20%20%20%20%0A%20%20%20%20%0A%20%20%20%20%20%20%20%20%20%20%20%20var%20marker_ea4303ad463147998a16d07e39acf3b5%20%3D%20L.marker%28%0A%20%20%20%20%20%20%20%20%20%20%20%20%20%20%20%20%5B38.881028%2C%20-77.1110952%5D%2C%0A%20%20%20%20%20%20%20%20%20%20%20%20%20%20%20%20%7B%7D%0A%20%20%20%20%20%20%20%20%20%20%20%20%29.addTo%28map_364d1749fcab49d1a1aa6d72433e89ce%29%3B%0A%20%20%20%20%20%20%20%20%0A%20%20%20%20%0A%20%20%20%20%20%20%20%20%20%20%20%20var%20icon_2fa50536996b410daed3b9a392558398%20%3D%20L.AwesomeMarkers.icon%28%0A%20%20%20%20%20%20%20%20%20%20%20%20%20%20%20%20%7B%22extraClasses%22%3A%20%22fa-rotate-0%22%2C%20%22icon%22%3A%20%22info-sign%22%2C%20%22iconColor%22%3A%20%22white%22%2C%20%22markerColor%22%3A%20%22red%22%2C%20%22prefix%22%3A%20%22glyphicon%22%7D%0A%20%20%20%20%20%20%20%20%20%20%20%20%29%3B%0A%20%20%20%20%20%20%20%20%20%20%20%20marker_ea4303ad463147998a16d07e39acf3b5.setIcon%28icon_2fa50536996b410daed3b9a392558398%29%3B%0A%20%20%20%20%20%20%20%20%0A%20%20%20%20%0A%20%20%20%20%20%20%20%20var%20popup_d3a65135df9f45f8abf53bdc7ab75a04%20%3D%20L.popup%28%7B%22maxWidth%22%3A%20%22100%25%22%7D%29%3B%0A%0A%20%20%20%20%20%20%20%20%0A%20%20%20%20%20%20%20%20%20%20%20%20var%20html_d08e9e2eac8f42d79d6b5b506fbd5dd5%20%3D%20%24%28%60%3Cdiv%20id%3D%22html_d08e9e2eac8f42d79d6b5b506fbd5dd5%22%20style%3D%22width%3A%20100.0%25%3B%20height%3A%20100.0%25%3B%22%3EAttacker%20IP%3C/div%3E%60%29%5B0%5D%3B%0A%20%20%20%20%20%20%20%20%20%20%20%20popup_d3a65135df9f45f8abf53bdc7ab75a04.setContent%28html_d08e9e2eac8f42d79d6b5b506fbd5dd5%29%3B%0A%20%20%20%20%20%20%20%20%0A%0A%20%20%20%20%20%20%20%20marker_ea4303ad463147998a16d07e39acf3b5.bindPopup%28popup_d3a65135df9f45f8abf53bdc7ab75a04%29%0A%20%20%20%20%20%20%20%20%3B%0A%0A%20%20%20%20%20%20%20%20%0A%20%20%20%20%0A%20%20%20%20%0A%20%20%20%20%20%20%20%20%20%20%20%20var%20circle_marker_1fd234e23ddc4deeb1a0aaa00474a6f4%20%3D%20L.circleMarker%28%0A%20%20%20%20%20%20%20%20%20%20%20%20%20%20%20%20%5B38.88056425%2C%20-77.1109785%5D%2C%0A%20%20%20%20%20%20%20%20%20%20%20%20%20%20%20%20%7B%22bubblingMouseEvents%22%3A%20true%2C%20%22color%22%3A%20%22red%22%2C%20%22dashArray%22%3A%20null%2C%20%22dashOffset%22%3A%20null%2C%20%22fill%22%3A%20true%2C%20%22fillColor%22%3A%20%22red%22%2C%20%22fillOpacity%22%3A%200.2%2C%20%22fillRule%22%3A%20%22evenodd%22%2C%20%22lineCap%22%3A%20%22round%22%2C%20%22lineJoin%22%3A%20%22round%22%2C%20%22opacity%22%3A%201.0%2C%20%22radius%22%3A%201%2C%20%22stroke%22%3A%20true%2C%20%22weight%22%3A%203%7D%0A%20%20%20%20%20%20%20%20%20%20%20%20%29.addTo%28map_364d1749fcab49d1a1aa6d72433e89ce%29%3B%0A%20%20%20%20%20%20%20%20%0A%20%20%20%20%0A%20%20%20%20%20%20%20%20var%20popup_3ec663b6ed0f4bea9bb923a8a861d310%20%3D%20L.popup%28%7B%22maxWidth%22%3A%20%22100%25%22%7D%29%3B%0A%0A%20%20%20%20%20%20%20%20%0A%20%20%20%20%20%20%20%20%20%20%20%20var%20html_5f17f6ee5dac44da8cfb69d45b63b874%20%3D%20%24%28%60%3Cdiv%20id%3D%22html_5f17f6ee5dac44da8cfb69d45b63b874%22%20style%3D%22width%3A%20100.0%25%3B%20height%3A%20100.0%25%3B%22%3EDunkin%27%20Donuts%3C/div%3E%60%29%5B0%5D%3B%0A%20%20%20%20%20%20%20%20%20%20%20%20popup_3ec663b6ed0f4bea9bb923a8a861d310.setContent%28html_5f17f6ee5dac44da8cfb69d45b63b874%29%3B%0A%20%20%20%20%20%20%20%20%0A%0A%20%20%20%20%20%20%20%20circle_marker_1fd234e23ddc4deeb1a0aaa00474a6f4.bindPopup%28popup_3ec663b6ed0f4bea9bb923a8a861d310%29%0A%20%20%20%20%20%20%20%20%3B%0A%0A%20%20%20%20%20%20%20%20%0A%20%20%20%20%0A%20%20%20%20%0A%20%20%20%20%20%20%20%20%20%20%20%20var%20circle_marker_5c62abfc2ab648f2b51ba4651b327dc6%20%3D%20L.circleMarker%28%0A%20%20%20%20%20%20%20%20%20%20%20%20%20%20%20%20%5B38.8803191%2C%20-77.1078738%5D%2C%0A%20%20%20%20%20%20%20%20%20%20%20%20%20%20%20%20%7B%22bubblingMouseEvents%22%3A%20true%2C%20%22color%22%3A%20%22red%22%2C%20%22dashArray%22%3A%20null%2C%20%22dashOffset%22%3A%20null%2C%20%22fill%22%3A%20true%2C%20%22fillColor%22%3A%20%22red%22%2C%20%22fillOpacity%22%3A%200.2%2C%20%22fillRule%22%3A%20%22evenodd%22%2C%20%22lineCap%22%3A%20%22round%22%2C%20%22lineJoin%22%3A%20%22round%22%2C%20%22opacity%22%3A%201.0%2C%20%22radius%22%3A%201%2C%20%22stroke%22%3A%20true%2C%20%22weight%22%3A%203%7D%0A%20%20%20%20%20%20%20%20%20%20%20%20%29.addTo%28map_364d1749fcab49d1a1aa6d72433e89ce%29%3B%0A%20%20%20%20%20%20%20%20%0A%20%20%20%20%0A%20%20%20%20%20%20%20%20var%20popup_eeaa153ef7e148b89af26b1a30441561%20%3D%20L.popup%28%7B%22maxWidth%22%3A%20%22100%25%22%7D%29%3B%0A%0A%20%20%20%20%20%20%20%20%0A%20%20%20%20%20%20%20%20%20%20%20%20var%20html_c20fa8bbcd3047af803f1c7f3f98b57c%20%3D%20%24%28%60%3Cdiv%20id%3D%22html_c20fa8bbcd3047af803f1c7f3f98b57c%22%20style%3D%22width%3A%20100.0%25%3B%20height%3A%20100.0%25%3B%22%3EBuzz%20Bakery%3C/div%3E%60%29%5B0%5D%3B%0A%20%20%20%20%20%20%20%20%20%20%20%20popup_eeaa153ef7e148b89af26b1a30441561.setContent%28html_c20fa8bbcd3047af803f1c7f3f98b57c%29%3B%0A%20%20%20%20%20%20%20%20%0A%0A%20%20%20%20%20%20%20%20circle_marker_5c62abfc2ab648f2b51ba4651b327dc6.bindPopup%28popup_eeaa153ef7e148b89af26b1a30441561%29%0A%20%20%20%20%20%20%20%20%3B%0A%0A%20%20%20%20%20%20%20%20%0A%20%20%20%20%0A%20%20%20%20%0A%20%20%20%20%20%20%20%20%20%20%20%20var%20circle_marker_44dcc741852646b8a754204ab62e7edf%20%3D%20L.circleMarker%28%0A%20%20%20%20%20%20%20%20%20%20%20%20%20%20%20%20%5B38.88064265%2C%20-77.1144144%5D%2C%0A%20%20%20%20%20%20%20%20%20%20%20%20%20%20%20%20%7B%22bubblingMouseEvents%22%3A%20true%2C%20%22color%22%3A%20%22red%22%2C%20%22dashArray%22%3A%20null%2C%20%22dashOffset%22%3A%20null%2C%20%22fill%22%3A%20true%2C%20%22fillColor%22%3A%20%22red%22%2C%20%22fillOpacity%22%3A%200.2%2C%20%22fillRule%22%3A%20%22evenodd%22%2C%20%22lineCap%22%3A%20%22round%22%2C%20%22lineJoin%22%3A%20%22round%22%2C%20%22opacity%22%3A%201.0%2C%20%22radius%22%3A%201%2C%20%22stroke%22%3A%20true%2C%20%22weight%22%3A%203%7D%0A%20%20%20%20%20%20%20%20%20%20%20%20%29.addTo%28map_364d1749fcab49d1a1aa6d72433e89ce%29%3B%0A%20%20%20%20%20%20%20%20%0A%20%20%20%20%0A%20%20%20%20%20%20%20%20var%20popup_fb8168a8b65a4e38be7b35da175002d6%20%3D%20L.popup%28%7B%22maxWidth%22%3A%20%22100%25%22%7D%29%3B%0A%0A%20%20%20%20%20%20%20%20%0A%20%20%20%20%20%20%20%20%20%20%20%20var%20html_5cd1b9a126e6420595147183b3c627f3%20%3D%20%24%28%60%3Cdiv%20id%3D%22html_5cd1b9a126e6420595147183b3c627f3%22%20style%3D%22width%3A%20100.0%25%3B%20height%3A%20100.0%25%3B%22%3EStarbucks%3C/div%3E%60%29%5B0%5D%3B%0A%20%20%20%20%20%20%20%20%20%20%20%20popup_fb8168a8b65a4e38be7b35da175002d6.setContent%28html_5cd1b9a126e6420595147183b3c627f3%29%3B%0A%20%20%20%20%20%20%20%20%0A%0A%20%20%20%20%20%20%20%20circle_marker_44dcc741852646b8a754204ab62e7edf.bindPopup%28popup_fb8168a8b65a4e38be7b35da175002d6%29%0A%20%20%20%20%20%20%20%20%3B%0A%0A%20%20%20%20%20%20%20%20%0A%20%20%20%20%0A%3C/script%3E onload=\"this.contentDocument.open();this.contentDocument.write(    decodeURIComponent(this.getAttribute('data-html')));this.contentDocument.close();\" allowfullscreen webkitallowfullscreen mozallowfullscreen></iframe></div></div>"
     },
     "metadata": {}
    }
   ]
  },
  {
   "cell_type": "code",
   "metadata": {
    "tags": [],
    "cell_id": "00028-78d60b5b-2775-41c7-a135-ff792a706351",
    "deepnote_cell_type": "code"
   },
   "source": "",
   "execution_count": null,
   "outputs": []
  },
  {
   "cell_type": "markdown",
   "source": "<a style='text-decoration:none;line-height:16px;display:flex;color:#5B5B62;padding:10px;justify-content:end;' href='https://deepnote.com?utm_source=created-in-deepnote-cell&projectId=f9ec1c15-7149-4ce0-bba0-7f3580fbd9ca' target=\"_blank\">\n<img alt='Created in deepnote.com' style='display:inline;max-height:16px;margin:0px;margin-right:7.5px;' src='data:image/svg+xml;base64,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' > </img>\nCreated in <span style='font-weight:600;margin-left:4px;'>Deepnote</span></a>",
   "metadata": {
    "tags": [],
    "created_in_deepnote_cell": true,
    "deepnote_cell_type": "markdown"
   }
  }
 ],
 "nbformat": 4,
 "nbformat_minor": 2,
 "metadata": {
  "orig_nbformat": 2,
  "deepnote": {
   "is_reactive": false
  },
  "deepnote_notebook_id": "6c3586f4-122e-4cee-82c5-32dfda70e053",
  "deepnote_execution_queue": []
 }
}