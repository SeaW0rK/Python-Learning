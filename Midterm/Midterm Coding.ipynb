{
 "cells": [
  {
   "cell_type": "markdown",
   "source": "# Midterm Section 2: Coding\nFor the following problems, closely read the prompt.\n\n* If the prompt asks for a function, you must format your code in a function. \n* Pay attenton for what type of data you can expect the function to take and to return\n* Do not use print in place of saving or returning a data type as requested\n* Do not use input statements; expect that others will call your function from code.\n\nTips:\n* Use good code fundamentals (variable names, etc.)\n* Use external resources (notes, textbook, the standard library) wisely. Do not google for solutions or ask others for help.\n* Plan your approach first with pseudocode\n* If you panic, back yourself out to logic in plain English. Avoid using pronouns and describe exactly what needs to happen referencing specific objects.\n\nGood luck!\n\n## Time Alloted \n20 minutes",
   "metadata": {
    "tags": [],
    "cell_id": "00000-c2cb2332-6a37-4cd0-b6e1-26575ea32abd",
    "deepnote_cell_type": "markdown"
   }
  },
  {
   "cell_type": "markdown",
   "source": "# Problem: Messy Vendor Data\n## Exam Requirement\nWrite a *function* that, provided a data structure in the same format as the one shown below, can return a *list* of all md5s (md5 value ONLY, no labels) from all vendor dictionaries, *deduplicated.* Please consider carefully what might cause issues with deduplication.",
   "metadata": {
    "tags": [],
    "cell_id": "00001-efe7bd22-ec4b-424f-99e3-5989a2c8c91a",
    "deepnote_cell_type": "markdown"
   }
  },
  {
   "cell_type": "code",
   "metadata": {
    "tags": [],
    "deepnote_to_be_reexecuted": false,
    "source_hash": "1cf82d1d",
    "execution_start": 1635285881509,
    "execution_millis": 0,
    "cell_id": "00002-cafe11ae-0cf3-4e3f-8792-b867392ef71c",
    "deepnote_cell_type": "code"
   },
   "source": "example_data = {\n    'vendor_a': {\n        'iocs': {\n            'files' : [\n                    ('normalpdf.pdf', 'md5:f9182e20ee2dd981c6124842a601e0a8'),\n                    ('normalpdf.pdf', 'sha1:A94A8FE5CCB19BA61C4C0873D391E987982FBBD3'),\n                    ('normaljpg.jpg', 'MD5:cd881e6fe99ee41419db05bb88e773e0'),\n                    ('normaljpg.jpg', 'sha1:27AD1672D8C97D748C9F1D8D465ABFBF6BFFEB72'),\n                    ('abnormaltxt.txt','mD5:85d03caac442a1e0e1c252be72dbdd91'),\n                    ('abnormaltxt.txt','SHA1:F32B67C7E26342AF42EFABC674D441DCA0A281C5')\n                    ]\n            }\n        },\n        'vendor_b': {\n            'iocs': {\n                'files' :[\n                        ('some.pdf', 'md5:b66201a8df282b65e5cb4e5a7c0c6b6c'),\n                        ('example.pdf', 'sha1:3C363836CF4E16666669A25DA280A1865C2D2874'),\n                        ('test.jpg', 'MD5:Cd881e6fe99ee41419db05bb88e773e0'),\n                        ('data.jpg', 'sha1:58E6B3A414A1E090DFC6029ADD0F3555CCBA127F'),\n                        ('to.txt','mD5:7FCCC4B5094828EE03B08C1079CAB0B3'),\n                        ('use.txt','SHA1:6C27445379295038584D962E003610F34100A525')\n                        ]\n                }\n            }\n}\n# remember, this is an example dictionary. Your function should be able to work on \n# any data in this general structure, even if is a much larger dictionary.",
   "outputs": [],
   "execution_count": null
  },
  {
   "cell_type": "markdown",
   "source": "<a style='text-decoration:none;line-height:16px;display:flex;color:#5B5B62;padding:10px;justify-content:end;' href='https://deepnote.com?utm_source=created-in-deepnote-cell&projectId=553ec125-3a11-4cd4-a5a8-0c3d766a5bb8' target=\"_blank\">\n<img alt='Created in deepnote.com' style='display:inline;max-height:16px;margin:0px;margin-right:7.5px;' src='data:image/svg+xml;base64,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' > </img>\nCreated in <span style='font-weight:600;margin-left:4px;'>Deepnote</span></a>",
   "metadata": {
    "tags": [],
    "created_in_deepnote_cell": true,
    "deepnote_cell_type": "markdown"
   }
  }
 ],
 "nbformat": 4,
 "nbformat_minor": 2,
 "metadata": {
  "orig_nbformat": 2,
  "deepnote": {
   "is_reactive": false
  },
  "deepnote_notebook_id": "c8b79b6b-daa3-48ef-9cda-d1c6ae0bd2ce",
  "deepnote_execution_queue": []
 }
}