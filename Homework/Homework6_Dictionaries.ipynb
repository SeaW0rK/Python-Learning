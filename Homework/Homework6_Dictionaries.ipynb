{
 "cells": [
  {
   "cell_type": "markdown",
   "source": "# Homework #6 - Practice with Dictionaries\n## Assignment Description \nThere are three parts to this assignment. First, some basic practice with many of the fundamental skills we learned in class. Second, another set of problems which will challenge you to use your critical thinking skills and fundamental code skills to answer coding challenges. Finally, practice with intelligence writing and getting more comfortable with malware terminology. \n\n# Assignment\n## Python Practice\nPlease complete all of the items in this Google Form and submit the Google Form once complete:\nhttps://forms.gle/Wi8ys7aHuwiDRzP66\n\n\n## Python Problem Solving Practice\nAnswer all of the questions included in this notebook below. \n\n## Practice with VT\nFind an article about a particular malware variant. Ensure that you are selecting a technical threat report and not an academic or general audience piece of writing. Read the piece and then createa a VirusTotal graph which shows how the IOC contained in the report are connected. Please provide a short writup about the malware and what you learned about the related infrastructure through your work in VT. \n\n(Example articles: I might choose to [read a FireEye blog like this](https://www.fireeye.com/blog/threat-research/2021/04/unc2447-sombrat-and-fivehands-ransomware-sophisticated-financial-threat.html) which references the FIVEHANDS malware. The FireEye blog contains some detail on this malware but the article is more actor focused so I did a google for \"FIVEHANDS malware report\" and then found a reputable source like CISA's US CERT and then [read this detailed writeup on the malware.](https://us-cert.cisa.gov/ncas/analysis-reports/ar21-126a))",
   "metadata": {
    "tags": [],
    "cell_id": "00001-a82dc2f2-a153-45ed-bfb0-cedba3a1e03c",
    "deepnote_cell_type": "markdown"
   }
  },
  {
   "cell_type": "markdown",
   "source": "## Time Test\nThis is a slightly modified version of the second problem from the last midterm. If you want to test your skills, set a time for 30 minutes and use only your own notes and the standard library / help function to see how you do. If you don't finish in time, use additional resources and come up with some study strategies.\n\n## Busted Code\nYou've been working with someone else who has written some busted code. It's supposed to be compiling a list of all of the MD5 hashes in a dictionary of data provided back from a security vendor, but it's ... definitely not. Fix it so it gets all of the MD5s into a list.\n\n* The dictionary they are processing is too large to share in its entirety, but here's a small example one from the API docs that shows how it would be structured. \n* They also noted that sometimes hashes aren't available for a given file if they didn't have the file themselves to generate them all. So you might be missing certain types of hashes for each entry...\n\nAs a tip, there's **about** seven different problems here. Look close, because they are all the most commonly missed concepts from homework and quizzes from students last semester. :D\n\nNote: You should *fix* their code, not completely rewrite it from scratch. The challenge is to identify and fix the errors exemplified, and for this problem, throwing the code out entirely to write your own solution isn't an option.\n",
   "metadata": {
    "tags": [],
    "cell_id": "00001-189e0437-ef30-43cb-b020-ab3aacbcb1f7",
    "deepnote_cell_type": "markdown"
   }
  },
  {
   "cell_type": "code",
   "metadata": {
    "tags": [],
    "cell_id": "00002-c6cd8ebd-34dc-4216-a0b6-294e11e6f454",
    "deepnote_cell_type": "code"
   },
   "source": "example = {\n    'iocs': {\n        'high confidence': {\n            'domains': ['evil.com',\n                'bad.com'\n            ],\n            'ips': ['8.8.8.8'],\n            'hashes': [{\n                'md5': '098F6BCD4621D373CADE4E832627B4F6',\n                'sha1': 'A94A8FE5CCB19BA61C4C0873D391E987982FBBD3',\n                'sha256': '9F86D081884C7D659A2FEAA0C55AD015A3BF4F1B2B0B822CD15D6C15B0F00A08'\n            }]\n        },\n        'medium confidence': {\n            'domains': ['test.com', 'lessbad.com'],\n            'ips': ['10.10.10.10'],\n            'hashes': [{\n                'md5': '5D41402ABC4B2A76B9719D911017C592',\n                'sha1': 'AAF4C61DDCC5E8A2DABEDE0F3B482CD9AEA9434D',\n                'sha256': '2CF24DBA5FB0A30E26E83B2AC5B9E29E1B161E5C1FA7425E73043362938B9824'\n            }, {\n                'sha256': '2CF24DBA5FB0A30E26E83B2AC5B9E29E1B161E5C1FA7425E73043362938B9824'\n            }]\n\n        },\n        'low confidence': {\n            'domains': ['nice.com', 'good.com'],\n            'ips': ['2.2.2.2'],\n            'hashes': [{\n                'md5': '7D793037A0760186574B0282F2F435E7',\n                'sha1': '7C211433F02071597741E6FF5A8EA34789ABBF43',\n                'sha256': '486EA46224D1BB4FB680F34F7C9AD96A8F24EC88BE73EA8E5A6C65260E9CB8A7'\n            }]\n        }\n    }\n}\n\n\nfor confidence, indicators in len(range(vendor_data.get('iocs'))):\nmd5s = ''\nfor hash_dict in vendor_data.get('hashes'):\n    if hash_dict['md5']:\n    md5s.append(hash_dict.get(md5))\n\n",
   "execution_count": null,
   "outputs": []
  },
  {
   "cell_type": "markdown",
   "source": "# Textual Analysis\nPick any two text data sources (these can be security articles, lists of IOCs, or something else) that are more than 500 words apiece and that contain some overlapping words.\n\nWrite code that can find all of the common words between both data sources and create a dictionary that shows how many times each common word occurs. If you want to make this harder, add additional elements to your dictionary to show how many times common words occur in each source.\n\n**Tip:** while you can do this problem entirely with what we have learned in class, if you want to read ahead a little, you may have a better time using [Counter](https://realpython.com/python-counter/). If you want to go an extra mile and dip your toes into very very beginner machine learning, you could consider figuring out how to remove common English [stop words](https://www.geeksforgeeks.org/removing-stop-words-nltk-python/) using nltk, a library used for natural language processing.",
   "metadata": {
    "tags": [],
    "cell_id": "00004-25415a0e-6ade-4506-a60b-0cf80c5b566f",
    "deepnote_cell_type": "markdown"
   }
  },
  {
   "cell_type": "code",
   "metadata": {
    "tags": [],
    "cell_id": "00005-c90fd96b-d9fa-4f0c-880d-0d31a33cd793",
    "deepnote_cell_type": "code"
   },
   "source": "source_a = \"This is where you put your text to analyze! :D\"\nsource_b = \"This is another text source\"\n\n# create code that will result in a dictionary.\n# the harder form of the question might have a result like...\n{\n    'this': {\n        'source_a': 1,\n        'source_b': 1,\n        'total': 2\n    },\n    'is' : {\n        'source_a': 1,\n        'source_b': 1,\n        'total': 2\n    },\n    'text' : {\n        'source_a': 1,\n        'source_b': 1,\n        'total': 2\n    }\n}",
   "execution_count": null,
   "outputs": []
  },
  {
   "cell_type": "markdown",
   "source": "<a style='text-decoration:none;line-height:16px;display:flex;color:#5B5B62;padding:10px;justify-content:end;' href='https://deepnote.com?utm_source=created-in-deepnote-cell&projectId=f9ec1c15-7149-4ce0-bba0-7f3580fbd9ca' target=\"_blank\">\n<img alt='Created in deepnote.com' style='display:inline;max-height:16px;margin:0px;margin-right:7.5px;' src='data:image/svg+xml;base64,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' > </img>\nCreated in <span style='font-weight:600;margin-left:4px;'>Deepnote</span></a>",
   "metadata": {
    "tags": [],
    "created_in_deepnote_cell": true,
    "deepnote_cell_type": "markdown"
   }
  }
 ],
 "nbformat": 4,
 "nbformat_minor": 2,
 "metadata": {
  "orig_nbformat": 2,
  "deepnote": {
   "is_reactive": false
  },
  "deepnote_notebook_id": "a3018981-6669-4c89-9f4d-5cfc2c744312",
  "deepnote_execution_queue": []
 }
}