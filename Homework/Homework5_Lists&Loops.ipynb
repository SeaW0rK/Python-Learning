{
 "cells": [
  {
   "cell_type": "markdown",
   "source": "# Homework #5 - Lists and Loops\n## Assignment Description \nThere are two parts to this assignment. First, some basic practice with many of the fundamental skills we learned in class. Second, another set of problems which will challenge you to use your critical thinking skills and fundamental code skills to answer coding challenges.  \n\n# Assignment\n## Python Practice\nPlease complete all of the items in this Google Form and submit the Google Form once complete:\n\nhttps://forms.gle/S8FU4crGBG8TFXTu7\n\n\n## Python Problem Solving Practice\nAnswer all of the questions included in this notebook below. ",
   "metadata": {
    "tags": [],
    "cell_id": "00004-396aaf3e-3eba-4441-b5bf-4e3322fc092e",
    "deepnote_cell_type": "markdown"
   }
  },
  {
   "cell_type": "markdown",
   "source": "# Python Problem Solving\n## Question 1: English Discord\n\nYou and your buddy have been fighting in your Discord channel about whether the American spellings or British spellings of various words are superio(u)r to their counterparts. To troll them, you've decided to write a bot that will spam the channel and correct their spelling whenever they write something \"wrong\".\n\nDiscord bots can be programmed in Python (https://realpython.com/how-to-make-a-discord-bot-python/), though we're not quite far along enough in class to really implement this just yet.\n\nBut, for now, let's write the logic we'd need assuming we had the code to handle the actual API part.\n\nTasks:\n* Pick a side in this silly debate.\n* Determine the spelling rules that you will need to implement. A good example of rules is [here](https://www.oxfordinternationalenglish.com/differences-in-british-and-american-spelling/). You need to pick at least **four rules** to write code for.\n    * A good example of this might be \"-yse at the end of a word should be -yze\".\n* Write code that can recognize when a rule is violated and will print a messaged informing them of their erroneous spelling.\n* There will be some cases where your general rule of thumb will not work and there is an exception. Come up with and implement at least **two rules** to try to reduce your false positive spelling corrections. Write a comment to explain your two rules.\n    * For example, the linked article says that words ending in \"our\" in British English are generally \"or\" in American English - but if the word is simply \"your\", we certainly wouldn't change it! \n\nYour input will come in a batch of messages stored in a list.\n\nYou should consider how you want your bot to behave when there are multiple corrections for a set of input or multiple corrections in an individual message. Will you print a message for each correction? Or will you collect them and display all their correction at one time? For the message vs the message set? You may choose any approach, but be intentional and clear about your decision.",
   "metadata": {
    "tags": [],
    "cell_id": "00004-63dae525-d3c5-4253-9ab1-51eab1d280ba",
    "deepnote_cell_type": "markdown"
   }
  },
  {
   "cell_type": "code",
   "metadata": {
    "tags": [],
    "cell_id": "00004-ff2cb514-b1c1-49a4-af1b-aaa4d2d048aa",
    "deepnote_to_be_reexecuted": false,
    "source_hash": "7476b3b4",
    "execution_start": 1632961448307,
    "execution_millis": 0,
    "deepnote_cell_type": "code"
   },
   "source": "messages = [\n    \"You're a right git for doing this.\", \n    \"Everyone knows it's analyse not analyze.\", \n    \"And who in their right mind would write anything but colour???\",\n    \"What a joke.\",\n    \"Surely you can recognise this?\"\n]",
   "execution_count": 3,
   "outputs": []
  },
  {
   "cell_type": "markdown",
   "source": "### Time Test\n>This is a very slightly modified question from the previous midterm. This should help give some expectations around how difficult the problems will be. Aim to complete this problem within 20-30 minutes, open notes (but no open internet) if you want to practice.\n\n> *Reminder:* a tuple (which we will cover in more depth next week) is just an unchangeable version of a list. They are declared with any comma separated series that does not have square brackets around them, but they are often declared with parenthesis around them by convention.\n\n```\nx = 1, 2, 3   # this is a tuple\nx = (1, 2, 3) # also a tuple\n```\n\n## Question Two: Censor me this\n\nWrite code which, when provided with a tuple containing an IP address of a sender and a text message they sent (e.g. `(\"1.2.3.4\", \"I hate mondays\")`), monitors for the presence of keywords within their message and replaces the keywords with the same number of `*` as the length of the censored word. \n\nIn the event that words are censored the code should print a tuple of the IP address of the offender and the censored string. If no offending words are found then the code should print \"No banned words found.\"\n\nBanned words list:\n```\ndarkweb\nfakenews\ndeepweb\ncyber\nnextgen\ninternet-of-things\n```\n\nA couple of tips:\n* When trying to get the asterisks right, consider how to get the length of an item and how to duplicate a character a specific number of times. Also consider different approaches you can use to make this modification. There's multiple ways to do this, and one is MUCH easier (less than 5 minutes total) than the others.\n* If the tuples thing confuses you, write it with lists and then just go back and change the brackets around.\n\nGood luck!",
   "metadata": {
    "tags": [],
    "cell_id": "00003-3f113519-d19d-4f3c-9cf4-bde92c17e14d",
    "deepnote_cell_type": "markdown"
   }
  },
  {
   "cell_type": "code",
   "metadata": {
    "tags": [],
    "cell_id": "00004-cb21c08f-d3ec-4f5e-a3ec-f62ae8afb2d7",
    "deepnote_cell_type": "code"
   },
   "source": "banned_words = [\n                  'darkweb', \n                  'fakenews',\n                  'deepweb',\n                  'cyber',\n                  'nextgen',\n                  'internet-of-things'\n                  ]\n\n# Example test code:\ntext = ('8.8.8.8', \"This sentence is fine and did nothing wrong.\")\n# this should print something like ('8.8.8.8', 'Nothing censored')\n\nx = ('10.10.10.10', \"I searched the deepweb and the darkweb but didn't find any cyber.\")\n# should print ('10.10.10.10', \"I searched the ******* and the ******* but didn't find any *****.\")",
   "execution_count": null,
   "outputs": []
  },
  {
   "cell_type": "markdown",
   "source": "<a style='text-decoration:none;line-height:16px;display:flex;color:#5B5B62;padding:10px;justify-content:end;' href='https://deepnote.com?utm_source=created-in-deepnote-cell&projectId=f9ec1c15-7149-4ce0-bba0-7f3580fbd9ca' target=\"_blank\">\n<img alt='Created in deepnote.com' style='display:inline;max-height:16px;margin:0px;margin-right:7.5px;' src='data:image/svg+xml;base64,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' > </img>\nCreated in <span style='font-weight:600;margin-left:4px;'>Deepnote</span></a>",
   "metadata": {
    "tags": [],
    "created_in_deepnote_cell": true,
    "deepnote_cell_type": "markdown"
   }
  }
 ],
 "nbformat": 4,
 "nbformat_minor": 2,
 "metadata": {
  "orig_nbformat": 2,
  "deepnote": {
   "is_reactive": false
  },
  "deepnote_notebook_id": "b7ad2a97-ff53-42b7-9aff-8b0b95a98eb2",
  "deepnote_execution_queue": []
 }
}