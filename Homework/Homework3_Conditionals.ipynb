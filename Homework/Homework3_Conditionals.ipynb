{
 "cells": [
  {
   "cell_type": "markdown",
   "source": "# Homework #3 - Fundamental Constructs\n## Assignment Description \nThere are three parts to this assignment. First, some basic practice with many of the fundamental skills we learned in class. Second, your first problems which will ask you to apply these skills to solving a few problems which require some original code. Finally, practicing writing good intelligence questions. \n\n# Assignment\n## Python Practice\nPlease complete all of the items in this Google Form and submit the Google Form once complete:\nhttps://forms.gle/LkhmoLh6HagQHPR8A\n\n## Python Problem Solving Practice\nAnswer all of the questions included in this notebook below. \n\n## Writing Good Intelligence Questions\nPlease write a set of PIRs which address any cybersecurity question you are interested in. Please include at least 15 PIRS and an associated collection requirement (aka data source) you would need access to for each. \n\n(Hint: If you are struggling to get started use one of the questions included in the class deck).",
   "metadata": {
    "tags": [],
    "cell_id": "00000-38999e47-e266-4a40-9fde-4ee43310df1e",
    "deepnote_cell_type": "markdown"
   }
  },
  {
   "cell_type": "markdown",
   "source": "# 1. Warmup: Temperature Conversion\n\nWrite two pieces of code for this problem. The first piece of code should take in a temperature in fahrenheit and convert it to degrees celsius. The second piece of code should be able to take in a temperature in degrees Celsius and return it in Fahrenheit.\n\nIf the temperature is provided with decimal precision, round it to the *nearest* tenth after conversion. Once the temperature has been determined, print the state that water would be in at the given temperature (solid, liquid, or gas).\n\nA few temperatures are provided to help you frame up your code - but I recommend testing a variety of use cases.\n\nThis problem is worth three points:\n\n* [1] based on appropriate variable names\n* [1] based on handling the numeric conversion and math correctly\n* [1] based on handling the conditional statements correctly\n\nHint: there are multiple functions that can be used to round a number. For this problem, you will need to research in your textbook or online how to round a number correctly.\n\nHint: you can print the state of water with code like the following:\n```print(\"liquid\")```",
   "metadata": {
    "tags": [],
    "cell_id": "00001-ee75a5b6-ffe5-47be-be8b-8823cd9e41a0",
    "deepnote_cell_type": "markdown"
   }
  },
  {
   "cell_type": "code",
   "metadata": {
    "tags": [],
    "cell_id": "00002-5220931c-c3ad-4621-86df-2cba1c2cc908",
    "deepnote_cell_type": "code"
   },
   "source": "# From F to C\nfahrenheit = 121.4\n\n\n# From C to F\ncelsius = -20.7",
   "execution_count": null,
   "outputs": []
  },
  {
   "cell_type": "markdown",
   "source": "# 2. Color Generator\nCreate code that can randomly generate **any valid color** in hex representation.\nSome tips:\n* When you generate hex in Python, use the function hex()\n\n\n",
   "metadata": {
    "tags": [],
    "cell_id": "00005-8b04eb5f-fe95-4fb4-b7d7-d0be99885104",
    "deepnote_cell_type": "markdown"
   }
  },
  {
   "cell_type": "code",
   "metadata": {
    "tags": [],
    "cell_id": "00005-87e7be3b-49e0-4a38-8f79-ef3ce4ca623e",
    "deepnote_to_be_reexecuted": false,
    "source_hash": "af86f744",
    "execution_start": 1631582201384,
    "execution_millis": 5,
    "deepnote_cell_type": "code"
   },
   "source": "hex(0) # convert any integer into its hex equivalent",
   "execution_count": null,
   "outputs": [
    {
     "output_type": "execute_result",
     "execution_count": 22,
     "data": {
      "text/plain": "'0x0'"
     },
     "metadata": {}
    }
   ]
  },
  {
   "cell_type": "markdown",
   "source": "When you do this, it will give you the equivalent value in hex. It will also come with the leading characters \"0x\" (this indicates hex wherever you see it).\n\nTo generate a random number:",
   "metadata": {
    "tags": [],
    "cell_id": "00006-858f0b3d-e121-47c1-a82a-742f7fbc10dc",
    "deepnote_cell_type": "markdown"
   }
  },
  {
   "cell_type": "code",
   "metadata": {
    "tags": [],
    "cell_id": "00005-96166592-d1b1-48ef-a585-140012cb7eaf",
    "deepnote_to_be_reexecuted": false,
    "source_hash": "1700ea8",
    "execution_start": 1631581146135,
    "execution_millis": 6,
    "deepnote_cell_type": "code"
   },
   "source": "import random # only need to run this one time per notebook\nrandom.randint(1, 100) # call this whenever you want to generate a random number in a range (inclusive)\n                       # you can change the numbers in this range, my selection of 1-100 is arbitrary",
   "execution_count": null,
   "outputs": [
    {
     "output_type": "execute_result",
     "execution_count": 17,
     "data": {
      "text/plain": "57"
     },
     "metadata": {}
    }
   ]
  },
  {
   "cell_type": "markdown",
   "source": "It is acceptable for your answer to be in the form of multiple integers printed in order on the same line. \nFor example, it is okay for you to print something like ``\"0x98 0x34 0xee\"`` to represent 9834ee, aka:\n\n\n",
   "metadata": {
    "tags": [],
    "cell_id": "00008-5a29e56b-0258-489a-8e0e-7f34c6c1b63d",
    "deepnote_cell_type": "markdown"
   }
  },
  {
   "cell_type": "markdown",
   "source": "![Picture title](image-20210913-212053.png)\n\nTwo points:\n\n* [1] Code completes the task specified \n* [1] Code has appropriate style/variables",
   "metadata": {
    "tags": [],
    "cell_id": "00009-55ee83ae-4dfd-47b7-b39a-b06d38b39656",
    "deepnote_cell_type": "markdown"
   }
  },
  {
   "cell_type": "markdown",
   "source": "# 3. Dominant Color\n\nGiven a color's rgb values as three different variables, print the color that is the most dominant (highest value) of the set. If two or more colors are tied, print both or all colors.\n\nUse conditional statements to reach a determination.\n\nPoints:\n* [1] working solution\n* [1] conditional and logic operators used\n* [1] style and variable names",
   "metadata": {
    "tags": [],
    "cell_id": "00013-9ce054ac-f3a4-4ccd-b3a3-9abfdc8b50bd",
    "deepnote_cell_type": "markdown"
   }
  },
  {
   "cell_type": "code",
   "metadata": {
    "tags": [],
    "cell_id": "00012-e494f8cf-27d7-4c5c-9f15-0742df6729ac",
    "deepnote_cell_type": "code"
   },
   "source": "# example \nred = 200 # red is highest so this is the dominant color\nblue = 10\ngreen = 40",
   "execution_count": null,
   "outputs": []
  },
  {
   "cell_type": "markdown",
   "source": "# 4. Seasons\n\nGiven a month and a day as numeric input, determine and print the correct season.\n\n* [1] working solution\n* [1] conditional and logic operators used\n* [1] style and variable names",
   "metadata": {
    "tags": [],
    "cell_id": "00011-4a3c26fb-9a61-4c31-8843-6639b03f2fcf",
    "deepnote_cell_type": "markdown"
   }
  },
  {
   "cell_type": "code",
   "source": "# Example input:\nmonth = 3\nday = 18",
   "metadata": {
    "tags": [],
    "cell_id": "00012-e6af1c13-a55f-419c-ab01-61c800c64deb",
    "deepnote_cell_type": "code"
   },
   "outputs": [],
   "execution_count": null
  },
  {
   "cell_type": "markdown",
   "source": "<a style='text-decoration:none;line-height:16px;display:flex;color:#5B5B62;padding:10px;justify-content:end;' href='https://deepnote.com?utm_source=created-in-deepnote-cell&projectId=553ec125-3a11-4cd4-a5a8-0c3d766a5bb8' target=\"_blank\">\n<img alt='Created in deepnote.com' style='display:inline;max-height:16px;margin:0px;margin-right:7.5px;' src='data:image/svg+xml;base64,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' > </img>\nCreated in <span style='font-weight:600;margin-left:4px;'>Deepnote</span></a>",
   "metadata": {
    "tags": [],
    "created_in_deepnote_cell": true,
    "deepnote_cell_type": "markdown"
   }
  }
 ],
 "nbformat": 4,
 "nbformat_minor": 2,
 "metadata": {
  "orig_nbformat": 2,
  "deepnote": {
   "is_reactive": false
  },
  "deepnote_notebook_id": "c41fed9a-0399-41b8-b9bc-7e82a1f9ebb7",
  "deepnote_execution_queue": []
 }
}