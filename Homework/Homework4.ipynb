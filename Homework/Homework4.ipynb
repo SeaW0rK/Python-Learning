{
 "cells": [
  {
   "cell_type": "markdown",
   "source": "# Homework #4 - Introduction to Iterables - Strings\n## Assignment Description \nThere are three parts to this assignment. First, some basic practice with many of the fundamental skills we learned in class. Second, another set of problems which will challenge you to use your critical thinking skills and fundamental code skills to answer coding challenges. Finally, practice with intelligence writing. \n\n# Assignment\n## Python Practice\nPlease complete all of the items in this Google Form and submit the Google Form once complete:\nhttps://forms.gle/dG7GQeBn26bSULQD7\n\n\n## Python Problem Solving Practice\nAnswer all of the questions included in this notebook below. \n\n## Practice with Intelligence Writing\nFind a piece of writing writing focused on a cyber attack of some kind and rewrite the piece using intel writing best practices. At the end of your report include a dedicated section in which you list all of the IOCs included in the report and ensure all of them are defanged. If your report didn't include IOCs go find IOCs related to this particular attack from a different source and cite where they came from. \n\n(Hint: You could find a piece written in a major news source such as the NYT or Washington Post or a piece written in a technology publication such as Wired or TechCrunch or you could even find a piece written on a cybersecurity specific news source such as krebsonsecurity or darkreading.)",
   "metadata": {
    "tags": [],
    "cell_id": "00002-381a9bd8-7c76-4bcb-8f2d-007e5f3920b3",
    "deepnote_cell_type": "markdown"
   }
  },
  {
   "cell_type": "markdown",
   "source": "# Coding Problems\n\n# 1. Ordinal Case Flip\nWrite code that can find the integer unicode character point of a provided character's case-inverse counterpart. E.g. if your code is run on the character 'a' it will output the unicode value of 'A' (which is 65). Hint: we recommend using the built-in function ord() (see https://docs.python.org/3.4/library/functions.html?highlight=ord#ord).",
   "metadata": {
    "tags": [],
    "cell_id": "00003-a7b9ddd0-e843-4fa0-a051-4163f904422f",
    "deepnote_cell_type": "markdown"
   }
  },
  {
   "cell_type": "markdown",
   "source": "",
   "metadata": {
    "tags": [],
    "cell_id": "00004-c1ca2e1e-5b15-493c-97f4-13aada4b93f2",
    "deepnote_cell_type": "markdown"
   }
  },
  {
   "cell_type": "markdown",
   "source": "# 2. Every Other Letter\nA secret code has been hidden in a string. Every other letter (starting at the first character, not the zeroeth) needs to be extracted into a new string to read it. Come up with a single statement that can do this.",
   "metadata": {
    "tags": [],
    "cell_id": "00005-2899af53-b504-4828-977c-5692759c2a45",
    "deepnote_cell_type": "markdown"
   }
  },
  {
   "cell_type": "code",
   "metadata": {
    "tags": [],
    "cell_id": "00006-c47f448d-e05a-40cd-b6f9-768d8042aa2b",
    "deepnote_to_be_reexecuted": false,
    "source_hash": "cbf726ae",
    "execution_start": 1632227706912,
    "execution_millis": 4,
    "deepnote_cell_type": "code"
   },
   "source": "secret = '1tfhgivsw fi ss  t6h7e8 9s e2ccree t4 cm eeses a,gae.'",
   "execution_count": null,
   "outputs": []
  },
  {
   "cell_type": "markdown",
   "source": "# 3. On the Case\n\nThis is a soft introduction to the topics for next week - lists and for loops. You're provided with all of the code to handle the loop and the structure for the list. This will hopefully give you a chance to see these structures in action and start to see what they are about before you have to write them yourself. If you are confused, remember to use your book or look online to better understand what you're seeing.\n\nYou’re renting an air-bnb. You change the code for each guest. The other night, someone tried the door code and then broke in after it failed. You suspect it was a former renter and if you can figure out who was issued the code they tried, maybe that will be a lead. \n\nYou have all your old texts from the app. Write some code that can extract the passcodes from your messages and compare them against the one used to try the door (1234).\n\nYou will be provided with some code that will cause your logic to run against every keycode message provided. If you get a match, print the full text!\n\nHere are some examples of texts that you can assume are a representative sample.\n\n* “Jen - The passcode is: 2222”\n* “Armand - I almost forgot! Your passcode for tonight: 9876”\n* “Mike - the passcode is: 1234”\n* “Carmen - the back door code - it's 9999”\n",
   "metadata": {
    "tags": [],
    "cell_id": "00008-365836aa-688c-4ccb-9696-9316c1bc4abf",
    "deepnote_cell_type": "markdown"
   }
  },
  {
   "cell_type": "code",
   "metadata": {
    "tags": [],
    "cell_id": "00008-e9cda037-849d-49a7-b77b-0bae0d5f28e5",
    "deepnote_to_be_reexecuted": false,
    "source_hash": "85928f34",
    "execution_start": 1632228482419,
    "execution_millis": 7,
    "deepnote_cell_type": "code"
   },
   "source": "# Hey! Good luck with catching your cat burglar\n# Here's some code you can use to go through the messages\n# I left some notes with it.\n# You'll have to figure out how to parse them though since I don't have \n# all of them.\n# - your friend\n\n# you can store the messages here\nmessages = [\"Example message goes here\",\n            \"another message here\",\n            \"and so on\"]\n\nfor each_txt in messages:\n    # put your logic in here\n    # the variable each_txt will contain whichever message you are on\n    # and it will change to the next one every time this indented \n    # code block finishes.\n    # once there's no more each_txt txt messages in messages\n    # it will return to executing code outside of the indented block\n\nprint(\"Finished running!\")",
   "execution_count": null,
   "outputs": [
    {
     "name": "stdout",
     "text": "Finished running!\n",
     "output_type": "stream"
    }
   ]
  },
  {
   "cell_type": "markdown",
   "source": "# 4. Palindrome Simplified\n\nWrite code that can tell if a provided string is a palindrome. For our purposes, a palindrome:\n\n* Contains the same characters (regardless of case) in the same order forward as it does in reverse.\n* Spaces should not affect a determination.\n\nExamples of valid palindromes:\n* tacocat\n* a man a plan a canal - Panama\n\nInvalid:\n* Taco cat! (punctuation doesn't match)\n* burrito cat (not a palindrome at all)\n",
   "metadata": {
    "tags": [],
    "cell_id": "00009-12474ef9-d226-4848-8863-9f5010c342be",
    "deepnote_cell_type": "markdown"
   }
  },
  {
   "cell_type": "code",
   "metadata": {
    "tags": [],
    "cell_id": "00010-ddf245cf-1847-4afb-92ea-a88417ccf8fe",
    "deepnote_to_be_reexecuted": false,
    "source_hash": "85691a64",
    "execution_start": 1632230285960,
    "execution_millis": 4,
    "deepnote_cell_type": "code"
   },
   "source": "test1 = \"taco cat\" # should succeed\ntest2 = \"Taco Cat\" # should succeed\ntest3 = \"burrito cat\" # should fail\n# create additional test cases as you need to",
   "execution_count": null,
   "outputs": []
  },
  {
   "cell_type": "markdown",
   "source": "# 5. In the Middle\nWrite code that can find the middle three characters of a string and print them. If the string is even in length, instead print the middle two.\nIf the string is too short, print the entire string.\nYou can assume there will be no punctuation but there could be spaces (they don't need to be stripped and should be counted).\n\nExamples:\n* \"a\" > too short, print the whole string\n* \"an\" > even, return both characters\n* \"can\" > odd, return middle three\n* \"cant\" > even, return \"an\"\n* \"canters\" > return middle three, \"nte\"\n* \"cant err\" > return middle two, \"t \"",
   "metadata": {
    "tags": [],
    "cell_id": "00010-1e1ae968-2e4c-4265-8c8d-b1865ff007d8",
    "deepnote_cell_type": "markdown"
   }
  },
  {
   "cell_type": "markdown",
   "source": "",
   "metadata": {
    "tags": [],
    "cell_id": "00012-c0458987-af31-45e6-a610-13e447fd0994",
    "deepnote_cell_type": "markdown"
   }
  },
  {
   "cell_type": "markdown",
   "source": "<a style='text-decoration:none;line-height:16px;display:flex;color:#5B5B62;padding:10px;justify-content:end;' href='https://deepnote.com?utm_source=created-in-deepnote-cell&projectId=f9ec1c15-7149-4ce0-bba0-7f3580fbd9ca' target=\"_blank\">\n<img alt='Created in deepnote.com' style='display:inline;max-height:16px;margin:0px;margin-right:7.5px;' src='data:image/svg+xml;base64,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' > </img>\nCreated in <span style='font-weight:600;margin-left:4px;'>Deepnote</span></a>",
   "metadata": {
    "tags": [],
    "created_in_deepnote_cell": true,
    "deepnote_cell_type": "markdown"
   }
  }
 ],
 "nbformat": 4,
 "nbformat_minor": 2,
 "metadata": {
  "orig_nbformat": 2,
  "deepnote": {
   "is_reactive": false
  },
  "deepnote_notebook_id": "f5168374-fe25-4ae3-b512-b82b128f5e2a",
  "deepnote_execution_queue": []
 }
}