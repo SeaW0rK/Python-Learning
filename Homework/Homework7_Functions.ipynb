{
 "cells": [
  {
   "cell_type": "markdown",
   "source": "# Homework #7 - Practice with Functions and Methods\n## Assignment Description \nThere are three parts to this assignment. First, some basic practice with many of the fundamental skills we learned in class. Second, another set of problems which will challenge you to use your critical thinking skills and fundamental code skills to answer coding challenges. Finally, practice with intelligence writing and getting more comfortable with malware terminology. \n\n# Assignment\n## Python Practice\nPlease complete all of the items in this Google Form and submit the Google Form once complete:\nhttps://forms.gle/KLM4tnwCKtuLJR5Y8\n\n## Caesar Cipher\n\nWrite the following two functions:\n\n1. **Encode:** this function takes in a text string to encode and an integer offset. The function implements a Casesar Cipher shift of the offset and encodes the string accordingly. The function returns the encoded string result. \n\n2. **Decode:** this function takes in a text string to encode and an integer offset. The function decodes the string using the provided offset and returns the plaintext string.\n\nFor both functions, you should expect only English alphabetical characters.\n\nIf you finish this and want to continue practicing, you might consider either of these projects for additional practice and prep for the midterm:\n\n* **Option A:** brute force Caesar decoder - write a function that, provided a string only, can produce all possible shift combinations.\n* **Option B:** add support for other languages besides english as well as spaces, punctuation, and numbers if your original solution does not handle them already\n* **Option C:** Implement the more complex but similar Vigenère cipher\n\nAs a reminder: please avoid looking at others' solutions to this problem. The experience of trying to figure out how to take an abstract problem and represent it with data types you've learned and reformat it with algorithms you've learned is really the point of this exercise.\n\n## OPSEC Improvement\nIdentify at least 3 of the OPSEC best practices from the lecture slides and implement them in your own life. Then write up a brief report on what you implemented and what types of cyber attacks those precautions may help protect against. For example you could spend 30 minutes learning about password managers, sign up for one, and then start transfering your usernames and passwords into it resetting your credentials anywhere you have reused credentials. You could place an order for Yubikeys and then when they arrive in the mail you could go into all of your most important accounts (e.g. Google, Facebook, Twitter, Dropbox, banks, etc.) and opt into MFA using your security keys. You could research VPNs. Then for your paper you could do something like explain how one of these would help reduce the liklihood that a particular TTP would be successful if used against you. \n\n## Small bonus announcement\nApril ended up writing a personal discord bot to troll one of my friends that could implement the logic you all used in a previous homework. The bot does require that you have a local Python environment setup - you cannot run it from Deepnote - but if anyone is invested, April can send you the code.",
   "metadata": {
    "tags": [],
    "cell_id": "00000-45e54bcd-43b4-4e9a-be0c-18a684406296",
    "deepnote_cell_type": "markdown"
   }
  },
  {
   "cell_type": "markdown",
   "source": "",
   "metadata": {
    "tags": [],
    "cell_id": "00001-56095f4b-633f-4d8a-ac78-33208a83b798",
    "deepnote_cell_type": "markdown"
   }
  },
  {
   "cell_type": "markdown",
   "source": "<a style='text-decoration:none;line-height:16px;display:flex;color:#5B5B62;padding:10px;justify-content:end;' href='https://deepnote.com?utm_source=created-in-deepnote-cell&projectId=f9ec1c15-7149-4ce0-bba0-7f3580fbd9ca' target=\"_blank\">\n<img alt='Created in deepnote.com' style='display:inline;max-height:16px;margin:0px;margin-right:7.5px;' src='data:image/svg+xml;base64,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' > </img>\nCreated in <span style='font-weight:600;margin-left:4px;'>Deepnote</span></a>",
   "metadata": {
    "tags": [],
    "created_in_deepnote_cell": true,
    "deepnote_cell_type": "markdown"
   }
  }
 ],
 "nbformat": 4,
 "nbformat_minor": 2,
 "metadata": {
  "orig_nbformat": 2,
  "deepnote": {
   "is_reactive": false
  },
  "deepnote_notebook_id": "bb522207-1b0d-42eb-9c3c-6aba7e813915",
  "deepnote_execution_queue": []
 }
}